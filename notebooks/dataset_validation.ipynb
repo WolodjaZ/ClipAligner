{
 "cells": [
  {
   "cell_type": "code",
   "execution_count": 3,
   "metadata": {},
   "outputs": [
    {
     "name": "stdout",
     "output_type": "stream",
     "text": [
      "Python version: 3.10.5 (main, Dec 17 2022, 19:41:24) [Clang 14.0.0 (clang-1400.0.29.202)]\n"
     ]
    }
   ],
   "source": [
    "import sys\n",
    "import torch\n",
    "from pathlib import Path\n",
    "\n",
    "print('Python version:', sys.version)\n",
    "sys.path.append('..')\n",
    "\n",
    "from src.datasets import *"
   ]
  },
  {
   "cell_type": "code",
   "execution_count": 4,
   "metadata": {},
   "outputs": [
    {
     "name": "stderr",
     "output_type": "stream",
     "text": [
      "\u001b[32m2023-12-04 18:13:20.983\u001b[0m | \u001b[34m\u001b[1mDEBUG   \u001b[0m | \u001b[36msrc.datasets.base\u001b[0m:\u001b[36m__init__\u001b[0m:\u001b[36m76\u001b[0m - \u001b[34m\u001b[1mDataset ImageCaption path: /tmp | Number of samples: 20\u001b[0m\n"
     ]
    },
    {
     "data": {
      "text/plain": [
       "<src.datasets.dumb.DumbImageCaptionDataset at 0x12aaf3730>"
      ]
     },
     "execution_count": 4,
     "metadata": {},
     "output_type": "execute_result"
    }
   ],
   "source": [
    "dumb_dataset = DumbImageCaptionDataset(dataset_path=Path('/tmp'), split='train', train_size=20)\n",
    "dumb_dataset"
   ]
  },
  {
   "cell_type": "code",
   "execution_count": 5,
   "metadata": {},
   "outputs": [
    {
     "data": {
      "text/plain": [
       "(torch.Size([3, 64, 64]), 'Lorem ipsum dolor')"
      ]
     },
     "execution_count": 5,
     "metadata": {},
     "output_type": "execute_result"
    }
   ],
   "source": [
    "dumb_dataset[0][0].shape, dumb_dataset[0][1]"
   ]
  },
  {
   "cell_type": "code",
   "execution_count": 6,
   "metadata": {},
   "outputs": [
    {
     "data": {
      "text/plain": [
       "5"
      ]
     },
     "execution_count": 6,
     "metadata": {},
     "output_type": "execute_result"
    }
   ],
   "source": [
    "dataloader = torch.utils.data.DataLoader(dumb_dataset, batch_size=4, shuffle=True)\n",
    "len(dataloader)"
   ]
  },
  {
   "cell_type": "code",
   "execution_count": 7,
   "metadata": {},
   "outputs": [
    {
     "name": "stdout",
     "output_type": "stream",
     "text": [
      "torch.Size([4, 3, 64, 64]) 4\n",
      "torch.Size([4, 3, 64, 64]) 4\n",
      "torch.Size([4, 3, 64, 64]) 4\n",
      "torch.Size([4, 3, 64, 64]) 4\n",
      "torch.Size([4, 3, 64, 64]) 4\n"
     ]
    }
   ],
   "source": [
    "for images, captions in dataloader:\n",
    "    print(images.shape, len(captions))"
   ]
  },
  {
   "cell_type": "code",
   "execution_count": 8,
   "metadata": {},
   "outputs": [
    {
     "name": "stderr",
     "output_type": "stream",
     "text": [
      "\u001b[32m2023-12-04 18:13:22.717\u001b[0m | \u001b[34m\u001b[1mDEBUG   \u001b[0m | \u001b[36msrc.datasets.base\u001b[0m:\u001b[36m__init__\u001b[0m:\u001b[36m76\u001b[0m - \u001b[34m\u001b[1mDataset ImageCaption path: /tmp | Number of samples: 20\u001b[0m\n"
     ]
    },
    {
     "data": {
      "text/plain": [
       "<src.datasets.dumb.DumbImageCaptionDataset at 0x12aaf1270>"
      ]
     },
     "execution_count": 8,
     "metadata": {},
     "output_type": "execute_result"
    }
   ],
   "source": [
    "dataset = get_dataset(\n",
    "    {\n",
    "        \"name\": 'dumb_image_caption',\n",
    "        \"dataset_path\": Path('/tmp'),\n",
    "        \"split\": 'train',\n",
    "        \"train_size\": 20\n",
    "    }\n",
    ")\n",
    "dataset"
   ]
  },
  {
   "cell_type": "code",
   "execution_count": 9,
   "metadata": {},
   "outputs": [
    {
     "data": {
      "text/plain": [
       "(torch.Size([3, 64, 64]), 'Lorem ipsum dolor sit amet, consect')"
      ]
     },
     "execution_count": 9,
     "metadata": {},
     "output_type": "execute_result"
    }
   ],
   "source": [
    "dumb_dataset[0][0].shape, dumb_dataset[0][1]"
   ]
  },
  {
   "cell_type": "code",
   "execution_count": 10,
   "metadata": {},
   "outputs": [
    {
     "data": {
      "text/plain": [
       "5"
      ]
     },
     "execution_count": 10,
     "metadata": {},
     "output_type": "execute_result"
    }
   ],
   "source": [
    "dataloader = torch.utils.data.DataLoader(dumb_dataset, batch_size=4, shuffle=True)\n",
    "len(dataloader)"
   ]
  },
  {
   "cell_type": "code",
   "execution_count": 11,
   "metadata": {},
   "outputs": [
    {
     "name": "stdout",
     "output_type": "stream",
     "text": [
      "torch.Size([4, 3, 64, 64]) 4\n",
      "torch.Size([4, 3, 64, 64]) 4\n",
      "torch.Size([4, 3, 64, 64]) 4\n",
      "torch.Size([4, 3, 64, 64]) 4\n",
      "torch.Size([4, 3, 64, 64]) 4\n"
     ]
    }
   ],
   "source": [
    "for images, captions in dataloader:\n",
    "    print(images.shape, len(captions))"
   ]
  },
  {
   "cell_type": "markdown",
   "metadata": {},
   "source": [
    "## With transforms"
   ]
  },
  {
   "cell_type": "code",
   "execution_count": 14,
   "metadata": {},
   "outputs": [],
   "source": [
    "import transformers\n",
    "from torchvision import transforms\n",
    "from functools import partial\n"
   ]
  },
  {
   "cell_type": "code",
   "execution_count": 15,
   "metadata": {},
   "outputs": [],
   "source": [
    "MAX_LEN = 128\n",
    "vision_transform = transforms.Compose([\n",
    "    transforms.Resize(244), transforms.CenterCrop(224), transforms.Normalize([0.5], [0.5])\n",
    "])\n",
    "caption_transform = partial(transformers.AutoTokenizer.from_pretrained(\"roberta-base\"), return_tensors=\"pt\", padding='max_length', truncation=True, max_length=MAX_LEN)"
   ]
  },
  {
   "cell_type": "code",
   "execution_count": 16,
   "metadata": {},
   "outputs": [
    {
     "name": "stderr",
     "output_type": "stream",
     "text": [
      "\u001b[32m2023-12-04 18:13:36.240\u001b[0m | \u001b[34m\u001b[1mDEBUG   \u001b[0m | \u001b[36msrc.datasets.base\u001b[0m:\u001b[36m__init__\u001b[0m:\u001b[36m76\u001b[0m - \u001b[34m\u001b[1mDataset ImageCaption path: /tmp | Number of samples: 20\u001b[0m\n"
     ]
    },
    {
     "data": {
      "text/plain": [
       "<src.datasets.dumb.DumbImageCaptionDataset at 0x12c7980d0>"
      ]
     },
     "execution_count": 16,
     "metadata": {},
     "output_type": "execute_result"
    }
   ],
   "source": [
    "dumb_dataset = DumbImageCaptionDataset(dataset_path=Path('/tmp'), split='train', train_size=20, image_transform=vision_transform)\n",
    "dumb_dataset"
   ]
  },
  {
   "cell_type": "code",
   "execution_count": 17,
   "metadata": {},
   "outputs": [
    {
     "name": "stderr",
     "output_type": "stream",
     "text": [
      "/Users/vladimirzaigrajew/Documents/projects/ClipAligner/.venv/lib/python3.10/site-packages/torchvision/transforms/functional.py:1603: UserWarning: The default value of the antialias parameter of all the resizing transforms (Resize(), RandomResizedCrop(), etc.) will change from None to True in v0.17, in order to be consistent across the PIL and Tensor backends. To suppress this warning, directly pass antialias=True (recommended, future default), antialias=None (current default, which means False for Tensors and True for PIL), or antialias=False (only works on Tensors - PIL will still use antialiasing). This also applies if you are using the inference transforms from the models weights: update the call to weights.transforms(antialias=True).\n",
      "  warnings.warn(\n"
     ]
    },
    {
     "data": {
      "text/plain": [
       "(torch.Size([3, 224, 224]),\n",
       " 'Lorem ipsum ',\n",
       " {'input_ids': tensor([[    0,   574, 43375,  1437,  7418,   783,   385, 37194,  2662,   524,\n",
       "            594,     6,  2764, 41147,   594,   710, 46468,   118,     2,     1,\n",
       "              1,     1,     1,     1,     1,     1,     1,     1,     1,     1,\n",
       "              1,     1,     1,     1,     1,     1,     1,     1,     1,     1,\n",
       "              1,     1,     1,     1,     1,     1,     1,     1,     1,     1,\n",
       "              1,     1,     1,     1,     1,     1,     1,     1,     1,     1,\n",
       "              1,     1,     1,     1,     1,     1,     1,     1,     1,     1,\n",
       "              1,     1,     1,     1,     1,     1,     1,     1,     1,     1,\n",
       "              1,     1,     1,     1,     1,     1,     1,     1,     1,     1,\n",
       "              1,     1,     1,     1,     1,     1,     1,     1,     1,     1,\n",
       "              1,     1,     1,     1,     1,     1,     1,     1,     1,     1,\n",
       "              1,     1,     1,     1,     1,     1,     1,     1,     1,     1,\n",
       "              1,     1,     1,     1,     1,     1,     1,     1]]), 'attention_mask': tensor([[1, 1, 1, 1, 1, 1, 1, 1, 1, 1, 1, 1, 1, 1, 1, 1, 1, 1, 1, 0, 0, 0, 0, 0,\n",
       "          0, 0, 0, 0, 0, 0, 0, 0, 0, 0, 0, 0, 0, 0, 0, 0, 0, 0, 0, 0, 0, 0, 0, 0,\n",
       "          0, 0, 0, 0, 0, 0, 0, 0, 0, 0, 0, 0, 0, 0, 0, 0, 0, 0, 0, 0, 0, 0, 0, 0,\n",
       "          0, 0, 0, 0, 0, 0, 0, 0, 0, 0, 0, 0, 0, 0, 0, 0, 0, 0, 0, 0, 0, 0, 0, 0,\n",
       "          0, 0, 0, 0, 0, 0, 0, 0, 0, 0, 0, 0, 0, 0, 0, 0, 0, 0, 0, 0, 0, 0, 0, 0,\n",
       "          0, 0, 0, 0, 0, 0, 0, 0]])})"
      ]
     },
     "execution_count": 17,
     "metadata": {},
     "output_type": "execute_result"
    }
   ],
   "source": [
    "dumb_dataset[0][0].shape, dumb_dataset[0][1], caption_transform(dumb_dataset[0][1])"
   ]
  },
  {
   "cell_type": "code",
   "execution_count": 18,
   "metadata": {},
   "outputs": [
    {
     "data": {
      "text/plain": [
       "5"
      ]
     },
     "execution_count": 18,
     "metadata": {},
     "output_type": "execute_result"
    }
   ],
   "source": [
    "dataloader = torch.utils.data.DataLoader(dumb_dataset, batch_size=4, shuffle=True)\n",
    "len(dataloader)"
   ]
  },
  {
   "cell_type": "code",
   "execution_count": 19,
   "metadata": {},
   "outputs": [
    {
     "name": "stdout",
     "output_type": "stream",
     "text": [
      "torch.Size([4, 3, 224, 224]) 4 torch.Size([4, 128]) torch.Size([4, 128])\n",
      "torch.Size([4, 3, 224, 224]) 4 torch.Size([4, 128]) torch.Size([4, 128])\n",
      "torch.Size([4, 3, 224, 224]) 4 torch.Size([4, 128]) torch.Size([4, 128])\n",
      "torch.Size([4, 3, 224, 224]) 4 torch.Size([4, 128]) torch.Size([4, 128])\n",
      "torch.Size([4, 3, 224, 224]) 4 torch.Size([4, 128]) torch.Size([4, 128])\n"
     ]
    }
   ],
   "source": [
    "for images, captions in dataloader:\n",
    "    encoded_captions = caption_transform(captions)\n",
    "    print(images.shape, len(captions), encoded_captions['input_ids'].shape, encoded_captions['attention_mask'].shape)"
   ]
  },
  {
   "cell_type": "code",
   "execution_count": null,
   "metadata": {},
   "outputs": [],
   "source": []
  }
 ],
 "metadata": {
  "kernelspec": {
   "display_name": ".venv",
   "language": "python",
   "name": "python3"
  },
  "language_info": {
   "codemirror_mode": {
    "name": "ipython",
    "version": 3
   },
   "file_extension": ".py",
   "mimetype": "text/x-python",
   "name": "python",
   "nbconvert_exporter": "python",
   "pygments_lexer": "ipython3",
   "version": "3.10.5"
  }
 },
 "nbformat": 4,
 "nbformat_minor": 2
}
