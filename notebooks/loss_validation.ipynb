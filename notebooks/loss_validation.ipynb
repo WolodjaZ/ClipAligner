{
 "cells": [
  {
   "cell_type": "code",
   "execution_count": 1,
   "metadata": {},
   "outputs": [
    {
     "name": "stdout",
     "output_type": "stream",
     "text": [
      "Python version: 3.10.5 (main, Dec 17 2022, 19:41:24) [Clang 14.0.0 (clang-1400.0.29.202)]\n"
     ]
    }
   ],
   "source": [
    "import sys\n",
    "import torch\n",
    "\n",
    "print('Python version:', sys.version)\n",
    "sys.path.append('..')\n",
    "\n",
    "from src.losses import *"
   ]
  },
  {
   "cell_type": "code",
   "execution_count": 2,
   "metadata": {},
   "outputs": [
    {
     "data": {
      "text/plain": [
       "(torch.Size([4, 64]),\n",
       " torch.Size([4, 64]),\n",
       " tensor(14.2857, grad_fn=<ExpBackward0>))"
      ]
     },
     "execution_count": 2,
     "metadata": {},
     "output_type": "execute_result"
    }
   ],
   "source": [
    "image_features = torch.randn(4, 64)\n",
    "caption_features = torch.randn(4, 64)\n",
    "logit_scale = torch.nn.Parameter(torch.ones([]) * torch.log(torch.tensor(1 / 0.07))).exp()\n",
    "image_features.shape, caption_features.shape, logit_scale"
   ]
  },
  {
   "cell_type": "code",
   "execution_count": 3,
   "metadata": {},
   "outputs": [
    {
     "name": "stderr",
     "output_type": "stream",
     "text": [
      "\u001b[32m2023-12-04 19:38:14.808\u001b[0m | \u001b[34m\u001b[1mDEBUG   \u001b[0m | \u001b[36msrc.losses.base\u001b[0m:\u001b[36m__init__\u001b[0m:\u001b[36m48\u001b[0m - \u001b[34m\u001b[1mImage Caption Loss Module ClipLoss initialized.\u001b[0m\n"
     ]
    },
    {
     "data": {
      "text/plain": [
       "ClipLoss: training=True, _parameters=OrderedDict(), _buffers=OrderedDict(), _non_persistent_buffers_set=set(), _backward_pre_hooks=OrderedDict(), _backward_hooks=OrderedDict(), _is_full_backward_hook=None, _forward_hooks=OrderedDict(), _forward_hooks_with_kwargs=OrderedDict(), _forward_hooks_always_called=OrderedDict(), _forward_pre_hooks=OrderedDict(), _forward_pre_hooks_with_kwargs=OrderedDict(), _state_dict_hooks=OrderedDict(), _state_dict_pre_hooks=OrderedDict(), _load_state_dict_pre_hooks=OrderedDict(), _load_state_dict_post_hooks=OrderedDict(), _modules=OrderedDict(), local_loss=False, gather_with_grad=False, cache_labels=False, rank=0, world_size=1, use_horovod=False, prev_num_logits=0, labels={}"
      ]
     },
     "execution_count": 3,
     "metadata": {},
     "output_type": "execute_result"
    }
   ],
   "source": [
    "clip_loss = ClipLoss()\n",
    "clip_loss"
   ]
  },
  {
   "cell_type": "code",
   "execution_count": 5,
   "metadata": {},
   "outputs": [
    {
     "data": {
      "text/plain": [
       "tensor(97.2682, grad_fn=<DivBackward0>)"
      ]
     },
     "execution_count": 5,
     "metadata": {},
     "output_type": "execute_result"
    }
   ],
   "source": [
    "clip_loss_value = clip_loss(image_features, caption_features, logit_scale)\n",
    "clip_loss_value"
   ]
  },
  {
   "cell_type": "code",
   "execution_count": 8,
   "metadata": {},
   "outputs": [
    {
     "name": "stderr",
     "output_type": "stream",
     "text": [
      "\u001b[32m2023-12-04 19:41:15.075\u001b[0m | \u001b[34m\u001b[1mDEBUG   \u001b[0m | \u001b[36msrc.losses.base\u001b[0m:\u001b[36m__init__\u001b[0m:\u001b[36m48\u001b[0m - \u001b[34m\u001b[1mImage Caption Loss Module CoCaLoss initialized.\u001b[0m\n"
     ]
    },
    {
     "data": {
      "text/plain": [
       "CoCaLoss: training=True, _parameters=OrderedDict(), _buffers=OrderedDict(), _non_persistent_buffers_set=set(), _backward_pre_hooks=OrderedDict(), _backward_hooks=OrderedDict(), _is_full_backward_hook=None, _forward_hooks=OrderedDict(), _forward_hooks_with_kwargs=OrderedDict(), _forward_hooks_always_called=OrderedDict(), _forward_pre_hooks=OrderedDict(), _forward_pre_hooks_with_kwargs=OrderedDict(), _state_dict_hooks=OrderedDict(), _state_dict_pre_hooks=OrderedDict(), _load_state_dict_pre_hooks=OrderedDict(), _load_state_dict_post_hooks=OrderedDict(), _modules=OrderedDict([('caption_loss', CrossEntropyLoss())]), local_loss=False, gather_with_grad=False, cache_labels=False, rank=0, world_size=1, use_horovod=False, prev_num_logits=0, labels={}, clip_loss_weight=0.5, caption_loss_weight=0.5"
      ]
     },
     "execution_count": 8,
     "metadata": {},
     "output_type": "execute_result"
    }
   ],
   "source": [
    "coca_loss = CoCaLoss(caption_loss_weight=0.5, clip_loss_weight=0.5)\n",
    "coca_loss"
   ]
  },
  {
   "cell_type": "code",
   "execution_count": 10,
   "metadata": {},
   "outputs": [],
   "source": [
    "## TODO: Later\n",
    "# coca_loss_value, caption_loss_value = coca_loss(image_features, caption_features, logit_scale)\n",
    "# coca_loss_value, caption_loss_value"
   ]
  },
  {
   "cell_type": "code",
   "execution_count": 11,
   "metadata": {},
   "outputs": [
    {
     "name": "stderr",
     "output_type": "stream",
     "text": [
      "\u001b[32m2023-12-04 19:43:32.343\u001b[0m | \u001b[34m\u001b[1mDEBUG   \u001b[0m | \u001b[36msrc.losses.base\u001b[0m:\u001b[36m__init__\u001b[0m:\u001b[36m48\u001b[0m - \u001b[34m\u001b[1mImage Caption Loss Module SigLipLoss initialized.\u001b[0m\n"
     ]
    },
    {
     "data": {
      "text/plain": [
       "SigLipLoss: training=True, _parameters=OrderedDict(), _buffers=OrderedDict(), _non_persistent_buffers_set=set(), _backward_pre_hooks=OrderedDict(), _backward_hooks=OrderedDict(), _is_full_backward_hook=None, _forward_hooks=OrderedDict(), _forward_hooks_with_kwargs=OrderedDict(), _forward_hooks_always_called=OrderedDict(), _forward_pre_hooks=OrderedDict(), _forward_pre_hooks_with_kwargs=OrderedDict(), _state_dict_hooks=OrderedDict(), _state_dict_pre_hooks=OrderedDict(), _load_state_dict_pre_hooks=OrderedDict(), _load_state_dict_post_hooks=OrderedDict(), _modules=OrderedDict(), cache_labels=False, rank=0, world_size=1, use_horovod=False, bidir=True, prev_num_logits=0, labels={}"
      ]
     },
     "execution_count": 11,
     "metadata": {},
     "output_type": "execute_result"
    }
   ],
   "source": [
    "sig_loss = SigLipLoss()\n",
    "sig_loss"
   ]
  },
  {
   "cell_type": "code",
   "execution_count": 14,
   "metadata": {},
   "outputs": [
    {
     "data": {
      "text/plain": [
       "tensor(204.2130, grad_fn=<DivBackward0>)"
      ]
     },
     "execution_count": 14,
     "metadata": {},
     "output_type": "execute_result"
    }
   ],
   "source": [
    "sig_loss_value = sig_loss(image_features, caption_features, logit_scale, None)\n",
    "sig_loss_value"
   ]
  },
  {
   "cell_type": "code",
   "execution_count": 15,
   "metadata": {},
   "outputs": [
    {
     "name": "stderr",
     "output_type": "stream",
     "text": [
      "\u001b[32m2023-12-04 19:44:21.755\u001b[0m | \u001b[34m\u001b[1mDEBUG   \u001b[0m | \u001b[36msrc.losses.base\u001b[0m:\u001b[36m__init__\u001b[0m:\u001b[36m48\u001b[0m - \u001b[34m\u001b[1mImage Caption Loss Module ClipLoss initialized.\u001b[0m\n"
     ]
    },
    {
     "data": {
      "text/plain": [
       "ClipLoss: training=True, _parameters=OrderedDict(), _buffers=OrderedDict(), _non_persistent_buffers_set=set(), _backward_pre_hooks=OrderedDict(), _backward_hooks=OrderedDict(), _is_full_backward_hook=None, _forward_hooks=OrderedDict(), _forward_hooks_with_kwargs=OrderedDict(), _forward_hooks_always_called=OrderedDict(), _forward_pre_hooks=OrderedDict(), _forward_pre_hooks_with_kwargs=OrderedDict(), _state_dict_hooks=OrderedDict(), _state_dict_pre_hooks=OrderedDict(), _load_state_dict_pre_hooks=OrderedDict(), _load_state_dict_post_hooks=OrderedDict(), _modules=OrderedDict(), local_loss=False, gather_with_grad=False, cache_labels=False, rank=0, world_size=1, use_horovod=False, prev_num_logits=0, labels={}"
      ]
     },
     "execution_count": 15,
     "metadata": {},
     "output_type": "execute_result"
    }
   ],
   "source": [
    "loss = get_loss_fn(\n",
    "    {\n",
    "        'name': \"clip\",\n",
    "    }\n",
    ")\n",
    "loss"
   ]
  },
  {
   "cell_type": "code",
   "execution_count": 17,
   "metadata": {},
   "outputs": [
    {
     "data": {
      "text/plain": [
       "tensor(97.2682, grad_fn=<DivBackward0>)"
      ]
     },
     "execution_count": 17,
     "metadata": {},
     "output_type": "execute_result"
    }
   ],
   "source": [
    "loss_value = loss(image_features, caption_features, logit_scale)\n",
    "loss_value"
   ]
  },
  {
   "cell_type": "code",
   "execution_count": null,
   "metadata": {},
   "outputs": [],
   "source": []
  }
 ],
 "metadata": {
  "kernelspec": {
   "display_name": ".venv",
   "language": "python",
   "name": "python3"
  },
  "language_info": {
   "codemirror_mode": {
    "name": "ipython",
    "version": 3
   },
   "file_extension": ".py",
   "mimetype": "text/x-python",
   "name": "python",
   "nbconvert_exporter": "python",
   "pygments_lexer": "ipython3",
   "version": "3.10.5"
  }
 },
 "nbformat": 4,
 "nbformat_minor": 2
}
