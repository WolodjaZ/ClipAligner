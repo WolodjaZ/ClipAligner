{
 "cells": [
  {
   "cell_type": "code",
   "execution_count": 1,
   "metadata": {},
   "outputs": [
    {
     "name": "stderr",
     "output_type": "stream",
     "text": [
      "/Users/vladimirzaigrajew/Documents/projects/ClipAligner/.venv/lib/python3.10/site-packages/tqdm/auto.py:21: TqdmWarning: IProgress not found. Please update jupyter and ipywidgets. See https://ipywidgets.readthedocs.io/en/stable/user_install.html\n",
      "  from .autonotebook import tqdm as notebook_tqdm\n"
     ]
    }
   ],
   "source": [
    "import sys\n",
    "import torch\n",
    "from torchvision import transforms\n",
    "\n",
    "sys.path.append('..')\n",
    "\n",
    "from src.models.models import *\n",
    "from src.models.aligner import *"
   ]
  },
  {
   "cell_type": "code",
   "execution_count": 2,
   "metadata": {},
   "outputs": [],
   "source": [
    "sample_image = torch.rand(1, 3, 224, 224)\n",
    "sample_test = [\"Wlazl kotek na plotek i mruga\"]\n",
    "batch_sample_image = torch.rand(2, 3, 224, 224)\n",
    "batch_sample_test = [\"Wlazl kotek na plotek i mruga\", \"Wlazl kotek na plotek i mruga na ciebie\"]"
   ]
  },
  {
   "cell_type": "code",
   "execution_count": 3,
   "metadata": {},
   "outputs": [
    {
     "data": {
      "text/plain": [
       "{'dinov2_vits14': (384, 256),\n",
       " 'dinov2_vitb14': (768, 256),\n",
       " 'dinov2_vitl14': (1024, 256),\n",
       " 'dinov2_vitg14': (1536, 256)}"
      ]
     },
     "execution_count": 3,
     "metadata": {},
     "output_type": "execute_result"
    }
   ],
   "source": [
    "dino_family = DinoVisionModel\n",
    "dino_family.SHAPES"
   ]
  },
  {
   "cell_type": "code",
   "execution_count": 4,
   "metadata": {},
   "outputs": [
    {
     "name": "stderr",
     "output_type": "stream",
     "text": [
      "\u001b[32m2023-12-02 23:21:45.469\u001b[0m | \u001b[34m\u001b[1mDEBUG   \u001b[0m | \u001b[36msrc.models.base\u001b[0m:\u001b[36m__init__\u001b[0m:\u001b[36m16\u001b[0m - \u001b[34m\u001b[1mModel image DinoVisionModel initialized.\u001b[0m\n",
      "Using cache found in /Users/vladimirzaigrajew/.cache/torch/hub/facebookresearch_dinov2_main\n",
      "xFormers not available\n",
      "xFormers not available\n"
     ]
    },
    {
     "data": {
      "text/plain": [
       "DinoVisionModel(\n",
       "  (_model): DinoVisionTransformer(\n",
       "    (patch_embed): PatchEmbed(\n",
       "      (proj): Conv2d(3, 768, kernel_size=(14, 14), stride=(14, 14))\n",
       "      (norm): Identity()\n",
       "    )\n",
       "    (blocks): ModuleList(\n",
       "      (0-11): 12 x NestedTensorBlock(\n",
       "        (norm1): LayerNorm((768,), eps=1e-06, elementwise_affine=True)\n",
       "        (attn): MemEffAttention(\n",
       "          (qkv): Linear(in_features=768, out_features=2304, bias=True)\n",
       "          (attn_drop): Dropout(p=0.0, inplace=False)\n",
       "          (proj): Linear(in_features=768, out_features=768, bias=True)\n",
       "          (proj_drop): Dropout(p=0.0, inplace=False)\n",
       "        )\n",
       "        (ls1): LayerScale()\n",
       "        (drop_path1): Identity()\n",
       "        (norm2): LayerNorm((768,), eps=1e-06, elementwise_affine=True)\n",
       "        (mlp): Mlp(\n",
       "          (fc1): Linear(in_features=768, out_features=3072, bias=True)\n",
       "          (act): GELU(approximate='none')\n",
       "          (fc2): Linear(in_features=3072, out_features=768, bias=True)\n",
       "          (drop): Dropout(p=0.0, inplace=False)\n",
       "        )\n",
       "        (ls2): LayerScale()\n",
       "        (drop_path2): Identity()\n",
       "      )\n",
       "    )\n",
       "    (norm): LayerNorm((768,), eps=1e-06, elementwise_affine=True)\n",
       "    (head): Identity()\n",
       "  )\n",
       ")"
      ]
     },
     "execution_count": 4,
     "metadata": {},
     "output_type": "execute_result"
    }
   ],
   "source": [
    "base_dino = dino_family(checkpoint=\"dinov2_vitb14\", pooling=\"cls\")\n",
    "base_dino"
   ]
  },
  {
   "cell_type": "code",
   "execution_count": 5,
   "metadata": {},
   "outputs": [
    {
     "name": "stderr",
     "output_type": "stream",
     "text": [
      "/Users/vladimirzaigrajew/Documents/projects/ClipAligner/.venv/lib/python3.10/site-packages/torchvision/transforms/functional.py:1603: UserWarning: The default value of the antialias parameter of all the resizing transforms (Resize(), RandomResizedCrop(), etc.) will change from None to True in v0.17, in order to be consistent across the PIL and Tensor backends. To suppress this warning, directly pass antialias=True (recommended, future default), antialias=None (current default, which means False for Tensors and True for PIL), or antialias=False (only works on Tensors - PIL will still use antialiasing). This also applies if you are using the inference transforms from the models weights: update the call to weights.transforms(antialias=True).\n",
      "  warnings.warn(\n"
     ]
    },
    {
     "data": {
      "text/plain": [
       "(torch.Size([1, 3, 224, 224]), torch.Size([1, 768]))"
      ]
     },
     "execution_count": 5,
     "metadata": {},
     "output_type": "execute_result"
    }
   ],
   "source": [
    "trans = transforms.Compose(base_dino.get_basic_transformations())\n",
    "trans(sample_image).shape, base_dino(sample_image).shape"
   ]
  },
  {
   "cell_type": "code",
   "execution_count": 6,
   "metadata": {},
   "outputs": [],
   "source": [
    "with torch.inference_mode():\n",
    "    output_image = base_dino(trans(sample_image))\n",
    "    output_batch_image = base_dino(trans(batch_sample_image))"
   ]
  },
  {
   "cell_type": "code",
   "execution_count": 7,
   "metadata": {},
   "outputs": [
    {
     "data": {
      "text/plain": [
       "(torch.Size([1, 768]), torch.Size([2, 768]), 768)"
      ]
     },
     "execution_count": 7,
     "metadata": {},
     "output_type": "execute_result"
    }
   ],
   "source": [
    "output_image.shape, output_batch_image.shape, base_dino.output_dim"
   ]
  },
  {
   "cell_type": "code",
   "execution_count": 8,
   "metadata": {},
   "outputs": [
    {
     "name": "stderr",
     "output_type": "stream",
     "text": [
      "\u001b[32m2023-12-02 23:21:50.412\u001b[0m | \u001b[34m\u001b[1mDEBUG   \u001b[0m | \u001b[36msrc.models.base\u001b[0m:\u001b[36m__init__\u001b[0m:\u001b[36m16\u001b[0m - \u001b[34m\u001b[1mModel image DinoVisionModel initialized.\u001b[0m\n",
      "Using cache found in /Users/vladimirzaigrajew/.cache/torch/hub/facebookresearch_dinov2_main\n",
      "\u001b[32m2023-12-02 23:21:52.605\u001b[0m | \u001b[34m\u001b[1mDEBUG   \u001b[0m | \u001b[36msrc.models.base\u001b[0m:\u001b[36m__init__\u001b[0m:\u001b[36m16\u001b[0m - \u001b[34m\u001b[1mModel image DinoVisionModel initialized.\u001b[0m\n"
     ]
    },
    {
     "name": "stdout",
     "output_type": "stream",
     "text": [
      "pooler: cls, checkpoint: dinov2_vits14, output_dim: 384, output_shape: torch.Size([1, 384]), batch_output_shape: torch.Size([2, 384])\n"
     ]
    },
    {
     "name": "stderr",
     "output_type": "stream",
     "text": [
      "Using cache found in /Users/vladimirzaigrajew/.cache/torch/hub/facebookresearch_dinov2_main\n",
      "\u001b[32m2023-12-02 23:21:58.015\u001b[0m | \u001b[34m\u001b[1mDEBUG   \u001b[0m | \u001b[36msrc.models.base\u001b[0m:\u001b[36m__init__\u001b[0m:\u001b[36m16\u001b[0m - \u001b[34m\u001b[1mModel image DinoVisionModel initialized.\u001b[0m\n"
     ]
    },
    {
     "name": "stdout",
     "output_type": "stream",
     "text": [
      "pooler: cls, checkpoint: dinov2_vitb14, output_dim: 768, output_shape: torch.Size([1, 768]), batch_output_shape: torch.Size([2, 768])\n"
     ]
    },
    {
     "name": "stderr",
     "output_type": "stream",
     "text": [
      "Using cache found in /Users/vladimirzaigrajew/.cache/torch/hub/facebookresearch_dinov2_main\n",
      "\u001b[32m2023-12-02 23:22:00.054\u001b[0m | \u001b[34m\u001b[1mDEBUG   \u001b[0m | \u001b[36msrc.models.base\u001b[0m:\u001b[36m__init__\u001b[0m:\u001b[36m16\u001b[0m - \u001b[34m\u001b[1mModel image DinoVisionModel initialized.\u001b[0m\n"
     ]
    },
    {
     "name": "stdout",
     "output_type": "stream",
     "text": [
      "pooler: mean, checkpoint: dinov2_vits14, output_dim: 256, output_shape: torch.Size([1, 256]), batch_output_shape: torch.Size([2, 256])\n"
     ]
    },
    {
     "name": "stderr",
     "output_type": "stream",
     "text": [
      "Using cache found in /Users/vladimirzaigrajew/.cache/torch/hub/facebookresearch_dinov2_main\n",
      "\u001b[32m2023-12-02 23:22:03.665\u001b[0m | \u001b[34m\u001b[1mDEBUG   \u001b[0m | \u001b[36msrc.models.base\u001b[0m:\u001b[36m__init__\u001b[0m:\u001b[36m16\u001b[0m - \u001b[34m\u001b[1mModel image DinoVisionModel initialized.\u001b[0m\n"
     ]
    },
    {
     "name": "stdout",
     "output_type": "stream",
     "text": [
      "pooler: mean, checkpoint: dinov2_vitb14, output_dim: 256, output_shape: torch.Size([1, 256]), batch_output_shape: torch.Size([2, 256])\n"
     ]
    },
    {
     "name": "stderr",
     "output_type": "stream",
     "text": [
      "Using cache found in /Users/vladimirzaigrajew/.cache/torch/hub/facebookresearch_dinov2_main\n",
      "\u001b[32m2023-12-02 23:22:04.894\u001b[0m | \u001b[34m\u001b[1mDEBUG   \u001b[0m | \u001b[36msrc.models.base\u001b[0m:\u001b[36m__init__\u001b[0m:\u001b[36m16\u001b[0m - \u001b[34m\u001b[1mModel image DinoVisionModel initialized.\u001b[0m\n"
     ]
    },
    {
     "name": "stdout",
     "output_type": "stream",
     "text": [
      "pooler: max, checkpoint: dinov2_vits14, output_dim: 256, output_shape: torch.Size([1, 256]), batch_output_shape: torch.Size([2, 256])\n"
     ]
    },
    {
     "name": "stderr",
     "output_type": "stream",
     "text": [
      "Using cache found in /Users/vladimirzaigrajew/.cache/torch/hub/facebookresearch_dinov2_main\n",
      "\u001b[32m2023-12-02 23:22:09.211\u001b[0m | \u001b[34m\u001b[1mDEBUG   \u001b[0m | \u001b[36msrc.models.base\u001b[0m:\u001b[36m__init__\u001b[0m:\u001b[36m16\u001b[0m - \u001b[34m\u001b[1mModel image DinoVisionModel initialized.\u001b[0m\n"
     ]
    },
    {
     "name": "stdout",
     "output_type": "stream",
     "text": [
      "pooler: max, checkpoint: dinov2_vitb14, output_dim: 256, output_shape: torch.Size([1, 256]), batch_output_shape: torch.Size([2, 256])\n"
     ]
    },
    {
     "name": "stderr",
     "output_type": "stream",
     "text": [
      "Using cache found in /Users/vladimirzaigrajew/.cache/torch/hub/facebookresearch_dinov2_main\n",
      "\u001b[32m2023-12-02 23:22:10.500\u001b[0m | \u001b[34m\u001b[1mDEBUG   \u001b[0m | \u001b[36msrc.models.base\u001b[0m:\u001b[36m__init__\u001b[0m:\u001b[36m16\u001b[0m - \u001b[34m\u001b[1mModel image DinoVisionModel initialized.\u001b[0m\n"
     ]
    },
    {
     "name": "stdout",
     "output_type": "stream",
     "text": [
      "pooler: mean_max, checkpoint: dinov2_vits14, output_dim: 512, output_shape: torch.Size([1, 512]), batch_output_shape: torch.Size([2, 512])\n"
     ]
    },
    {
     "name": "stderr",
     "output_type": "stream",
     "text": [
      "Using cache found in /Users/vladimirzaigrajew/.cache/torch/hub/facebookresearch_dinov2_main\n",
      "\u001b[32m2023-12-02 23:22:14.468\u001b[0m | \u001b[34m\u001b[1mDEBUG   \u001b[0m | \u001b[36msrc.models.base\u001b[0m:\u001b[36m__init__\u001b[0m:\u001b[36m16\u001b[0m - \u001b[34m\u001b[1mModel image DinoVisionModel initialized.\u001b[0m\n"
     ]
    },
    {
     "name": "stdout",
     "output_type": "stream",
     "text": [
      "pooler: mean_max, checkpoint: dinov2_vitb14, output_dim: 512, output_shape: torch.Size([1, 512]), batch_output_shape: torch.Size([2, 512])\n"
     ]
    },
    {
     "name": "stderr",
     "output_type": "stream",
     "text": [
      "Using cache found in /Users/vladimirzaigrajew/.cache/torch/hub/facebookresearch_dinov2_main\n",
      "\u001b[32m2023-12-02 23:22:15.498\u001b[0m | \u001b[34m\u001b[1mDEBUG   \u001b[0m | \u001b[36msrc.models.base\u001b[0m:\u001b[36m__init__\u001b[0m:\u001b[36m16\u001b[0m - \u001b[34m\u001b[1mModel image DinoVisionModel initialized.\u001b[0m\n"
     ]
    },
    {
     "name": "stdout",
     "output_type": "stream",
     "text": [
      "pooler: cls_mean, checkpoint: dinov2_vits14, output_dim: 640, output_shape: torch.Size([1, 640]), batch_output_shape: torch.Size([2, 640])\n"
     ]
    },
    {
     "name": "stderr",
     "output_type": "stream",
     "text": [
      "Using cache found in /Users/vladimirzaigrajew/.cache/torch/hub/facebookresearch_dinov2_main\n",
      "\u001b[32m2023-12-02 23:22:18.331\u001b[0m | \u001b[34m\u001b[1mDEBUG   \u001b[0m | \u001b[36msrc.models.base\u001b[0m:\u001b[36m__init__\u001b[0m:\u001b[36m16\u001b[0m - \u001b[34m\u001b[1mModel image DinoVisionModel initialized.\u001b[0m\n"
     ]
    },
    {
     "name": "stdout",
     "output_type": "stream",
     "text": [
      "pooler: cls_mean, checkpoint: dinov2_vitb14, output_dim: 1024, output_shape: torch.Size([1, 1024]), batch_output_shape: torch.Size([2, 1024])\n"
     ]
    },
    {
     "name": "stderr",
     "output_type": "stream",
     "text": [
      "Using cache found in /Users/vladimirzaigrajew/.cache/torch/hub/facebookresearch_dinov2_main\n",
      "\u001b[32m2023-12-02 23:22:19.569\u001b[0m | \u001b[34m\u001b[1mDEBUG   \u001b[0m | \u001b[36msrc.models.base\u001b[0m:\u001b[36m__init__\u001b[0m:\u001b[36m16\u001b[0m - \u001b[34m\u001b[1mModel image DinoVisionModel initialized.\u001b[0m\n"
     ]
    },
    {
     "name": "stdout",
     "output_type": "stream",
     "text": [
      "pooler: cls_max, checkpoint: dinov2_vits14, output_dim: 640, output_shape: torch.Size([1, 640]), batch_output_shape: torch.Size([2, 640])\n"
     ]
    },
    {
     "name": "stderr",
     "output_type": "stream",
     "text": [
      "Using cache found in /Users/vladimirzaigrajew/.cache/torch/hub/facebookresearch_dinov2_main\n",
      "\u001b[32m2023-12-02 23:22:23.691\u001b[0m | \u001b[34m\u001b[1mDEBUG   \u001b[0m | \u001b[36msrc.models.base\u001b[0m:\u001b[36m__init__\u001b[0m:\u001b[36m16\u001b[0m - \u001b[34m\u001b[1mModel image DinoVisionModel initialized.\u001b[0m\n"
     ]
    },
    {
     "name": "stdout",
     "output_type": "stream",
     "text": [
      "pooler: cls_max, checkpoint: dinov2_vitb14, output_dim: 1024, output_shape: torch.Size([1, 1024]), batch_output_shape: torch.Size([2, 1024])\n"
     ]
    },
    {
     "name": "stderr",
     "output_type": "stream",
     "text": [
      "Using cache found in /Users/vladimirzaigrajew/.cache/torch/hub/facebookresearch_dinov2_main\n",
      "\u001b[32m2023-12-02 23:22:25.501\u001b[0m | \u001b[34m\u001b[1mDEBUG   \u001b[0m | \u001b[36msrc.models.base\u001b[0m:\u001b[36m__init__\u001b[0m:\u001b[36m16\u001b[0m - \u001b[34m\u001b[1mModel image DinoVisionModel initialized.\u001b[0m\n"
     ]
    },
    {
     "name": "stdout",
     "output_type": "stream",
     "text": [
      "pooler: cls_mean_max, checkpoint: dinov2_vits14, output_dim: 896, output_shape: torch.Size([1, 896]), batch_output_shape: torch.Size([2, 896])\n"
     ]
    },
    {
     "name": "stderr",
     "output_type": "stream",
     "text": [
      "Using cache found in /Users/vladimirzaigrajew/.cache/torch/hub/facebookresearch_dinov2_main\n"
     ]
    },
    {
     "name": "stdout",
     "output_type": "stream",
     "text": [
      "pooler: cls_mean_max, checkpoint: dinov2_vitb14, output_dim: 1280, output_shape: torch.Size([1, 1280]), batch_output_shape: torch.Size([2, 1280])\n"
     ]
    }
   ],
   "source": [
    "with torch.inference_mode():\n",
    "    for pooler in [\"cls\", \"mean\", \"max\", \"mean_max\", \"cls_mean\", \"cls_max\", \"cls_mean_max\"]:\n",
    "        for checkpoint in [\"dinov2_vits14\", \"dinov2_vitb14\"]:#, \"dinov2_vitl14\", \"dinov2_vitg14\"]:\n",
    "            dino = dino_family(checkpoint=checkpoint, pooling=pooler)\n",
    "            print(f\"pooler: {pooler}, checkpoint: {checkpoint}, output_dim: {dino.output_dim}, output_shape: {dino(sample_image).shape}, batch_output_shape: {dino(batch_sample_image).shape}\")"
   ]
  },
  {
   "cell_type": "code",
   "execution_count": 9,
   "metadata": {},
   "outputs": [
    {
     "name": "stderr",
     "output_type": "stream",
     "text": [
      "\u001b[32m2023-12-02 23:22:28.405\u001b[0m | \u001b[34m\u001b[1mDEBUG   \u001b[0m | \u001b[36msrc.models.base\u001b[0m:\u001b[36m__init__\u001b[0m:\u001b[36m16\u001b[0m - \u001b[34m\u001b[1mModel image DinoVisionModel initialized.\u001b[0m\n",
      "Using cache found in /Users/vladimirzaigrajew/.cache/torch/hub/facebookresearch_dinov2_main\n"
     ]
    }
   ],
   "source": [
    "try:\n",
    "    dino_family(checkpoint=\"dinov2_vits14\", pooling=\"Wrong\")\n",
    "    assert False\n",
    "except ValueError:\n",
    "    assert True"
   ]
  },
  {
   "cell_type": "code",
   "execution_count": 10,
   "metadata": {},
   "outputs": [
    {
     "data": {
      "text/plain": [
       "{'roberta-base': 768, 'roberta-large': 1024, 'xlm-roberta-base': 250002}"
      ]
     },
     "execution_count": 10,
     "metadata": {},
     "output_type": "execute_result"
    }
   ],
   "source": [
    "robert_family = RobertaCaptionModel\n",
    "robert_family.SHAPES"
   ]
  },
  {
   "cell_type": "code",
   "execution_count": 11,
   "metadata": {},
   "outputs": [
    {
     "name": "stderr",
     "output_type": "stream",
     "text": [
      "\u001b[32m2023-12-02 23:22:29.879\u001b[0m | \u001b[34m\u001b[1mDEBUG   \u001b[0m | \u001b[36msrc.models.base\u001b[0m:\u001b[36m__init__\u001b[0m:\u001b[36m32\u001b[0m - \u001b[34m\u001b[1mModel caption RobertaCaptionModel initialized.\u001b[0m\n",
      "Some weights of RobertaModel were not initialized from the model checkpoint at roberta-base and are newly initialized: ['roberta.pooler.dense.bias', 'roberta.pooler.dense.weight']\n",
      "You should probably TRAIN this model on a down-stream task to be able to use it for predictions and inference.\n",
      "\u001b[32m2023-12-02 23:22:34.125\u001b[0m | \u001b[1mINFO    \u001b[0m | \u001b[36msrc.models.models\u001b[0m:\u001b[36m__init__\u001b[0m:\u001b[36m84\u001b[0m - \u001b[1mSssssh don't listen to the warning above, Robert can be grumpy.\u001b[0m\n"
     ]
    },
    {
     "data": {
      "text/plain": [
       "RobertaCaptionModel(\n",
       "  (_model): RobertaModel(\n",
       "    (embeddings): RobertaEmbeddings(\n",
       "      (word_embeddings): Embedding(50265, 768, padding_idx=1)\n",
       "      (position_embeddings): Embedding(514, 768, padding_idx=1)\n",
       "      (token_type_embeddings): Embedding(1, 768)\n",
       "      (LayerNorm): LayerNorm((768,), eps=1e-05, elementwise_affine=True)\n",
       "      (dropout): Dropout(p=0.1, inplace=False)\n",
       "    )\n",
       "    (encoder): RobertaEncoder(\n",
       "      (layer): ModuleList(\n",
       "        (0-11): 12 x RobertaLayer(\n",
       "          (attention): RobertaAttention(\n",
       "            (self): RobertaSelfAttention(\n",
       "              (query): Linear(in_features=768, out_features=768, bias=True)\n",
       "              (key): Linear(in_features=768, out_features=768, bias=True)\n",
       "              (value): Linear(in_features=768, out_features=768, bias=True)\n",
       "              (dropout): Dropout(p=0.1, inplace=False)\n",
       "            )\n",
       "            (output): RobertaSelfOutput(\n",
       "              (dense): Linear(in_features=768, out_features=768, bias=True)\n",
       "              (LayerNorm): LayerNorm((768,), eps=1e-05, elementwise_affine=True)\n",
       "              (dropout): Dropout(p=0.1, inplace=False)\n",
       "            )\n",
       "          )\n",
       "          (intermediate): RobertaIntermediate(\n",
       "            (dense): Linear(in_features=768, out_features=3072, bias=True)\n",
       "            (intermediate_act_fn): GELUActivation()\n",
       "          )\n",
       "          (output): RobertaOutput(\n",
       "            (dense): Linear(in_features=3072, out_features=768, bias=True)\n",
       "            (LayerNorm): LayerNorm((768,), eps=1e-05, elementwise_affine=True)\n",
       "            (dropout): Dropout(p=0.1, inplace=False)\n",
       "          )\n",
       "        )\n",
       "      )\n",
       "    )\n",
       "    (pooler): RobertaPooler(\n",
       "      (dense): Linear(in_features=768, out_features=768, bias=True)\n",
       "      (activation): Tanh()\n",
       "    )\n",
       "  )\n",
       ")"
      ]
     },
     "execution_count": 11,
     "metadata": {},
     "output_type": "execute_result"
    }
   ],
   "source": [
    "base_robert = robert_family(checkpoint=\"roberta-base\", pooling=\"cls\")\n",
    "base_robert"
   ]
  },
  {
   "cell_type": "code",
   "execution_count": 12,
   "metadata": {},
   "outputs": [
    {
     "data": {
      "text/plain": [
       "(dict_keys(['input_ids', 'attention_mask']),\n",
       " dict_keys(['input_ids', 'attention_mask']))"
      ]
     },
     "execution_count": 12,
     "metadata": {},
     "output_type": "execute_result"
    }
   ],
   "source": [
    "tokenizer = base_robert.get_tokenizer()\n",
    "tokenizer(sample_test, return_tensors=\"pt\", padding=True).keys(), tokenizer(batch_sample_test, return_tensors=\"pt\", padding=True).keys()"
   ]
  },
  {
   "cell_type": "code",
   "execution_count": 13,
   "metadata": {},
   "outputs": [],
   "source": [
    "with torch.inference_mode():\n",
    "    output_test = base_robert(tokenizer(sample_test, return_tensors=\"pt\", padding=True))\n",
    "    output_batch_test = base_robert(tokenizer(batch_sample_test, return_tensors=\"pt\", padding=True))"
   ]
  },
  {
   "cell_type": "code",
   "execution_count": 14,
   "metadata": {},
   "outputs": [
    {
     "data": {
      "text/plain": [
       "(torch.Size([1, 768]), torch.Size([2, 768]), 768)"
      ]
     },
     "execution_count": 14,
     "metadata": {},
     "output_type": "execute_result"
    }
   ],
   "source": [
    "output_test.shape, output_batch_test.shape, base_robert.output_dim"
   ]
  },
  {
   "cell_type": "code",
   "execution_count": 15,
   "metadata": {},
   "outputs": [
    {
     "name": "stderr",
     "output_type": "stream",
     "text": [
      "\u001b[32m2023-12-02 23:22:34.311\u001b[0m | \u001b[34m\u001b[1mDEBUG   \u001b[0m | \u001b[36msrc.models.base\u001b[0m:\u001b[36m__init__\u001b[0m:\u001b[36m32\u001b[0m - \u001b[34m\u001b[1mModel caption RobertaCaptionModel initialized.\u001b[0m\n",
      "Some weights of RobertaModel were not initialized from the model checkpoint at roberta-base and are newly initialized: ['roberta.pooler.dense.bias', 'roberta.pooler.dense.weight']\n",
      "You should probably TRAIN this model on a down-stream task to be able to use it for predictions and inference.\n",
      "\u001b[32m2023-12-02 23:22:36.429\u001b[0m | \u001b[1mINFO    \u001b[0m | \u001b[36msrc.models.models\u001b[0m:\u001b[36m__init__\u001b[0m:\u001b[36m84\u001b[0m - \u001b[1mSssssh don't listen to the warning above, Robert can be grumpy.\u001b[0m\n",
      "\u001b[32m2023-12-02 23:22:36.525\u001b[0m | \u001b[34m\u001b[1mDEBUG   \u001b[0m | \u001b[36msrc.models.base\u001b[0m:\u001b[36m__init__\u001b[0m:\u001b[36m32\u001b[0m - \u001b[34m\u001b[1mModel caption RobertaCaptionModel initialized.\u001b[0m\n"
     ]
    },
    {
     "name": "stdout",
     "output_type": "stream",
     "text": [
      "pooler: cls, checkpoint: roberta-base, output_dim: 768, output_shape: torch.Size([1, 768]), batch_output_shape: torch.Size([2, 768])\n"
     ]
    },
    {
     "name": "stderr",
     "output_type": "stream",
     "text": [
      "Some weights of the model checkpoint at xlm-roberta-base were not used when initializing XLMRobertaForMaskedLM: ['roberta.pooler.dense.bias', 'roberta.pooler.dense.weight']\n",
      "- This IS expected if you are initializing XLMRobertaForMaskedLM from the checkpoint of a model trained on another task or with another architecture (e.g. initializing a BertForSequenceClassification model from a BertForPreTraining model).\n",
      "- This IS NOT expected if you are initializing XLMRobertaForMaskedLM from the checkpoint of a model that you expect to be exactly identical (initializing a BertForSequenceClassification model from a BertForSequenceClassification model).\n",
      "\u001b[32m2023-12-02 23:22:45.526\u001b[0m | \u001b[1mINFO    \u001b[0m | \u001b[36msrc.models.models\u001b[0m:\u001b[36m__init__\u001b[0m:\u001b[36m84\u001b[0m - \u001b[1mSssssh don't listen to the warning above, Robert can be grumpy.\u001b[0m\n",
      "\u001b[32m2023-12-02 23:22:45.742\u001b[0m | \u001b[34m\u001b[1mDEBUG   \u001b[0m | \u001b[36msrc.models.base\u001b[0m:\u001b[36m__init__\u001b[0m:\u001b[36m32\u001b[0m - \u001b[34m\u001b[1mModel caption RobertaCaptionModel initialized.\u001b[0m\n"
     ]
    },
    {
     "name": "stdout",
     "output_type": "stream",
     "text": [
      "pooler: cls, checkpoint: xlm-roberta-base, output_dim: 250002, output_shape: torch.Size([1, 250002]), batch_output_shape: torch.Size([2, 250002])\n"
     ]
    },
    {
     "name": "stderr",
     "output_type": "stream",
     "text": [
      "Some weights of RobertaModel were not initialized from the model checkpoint at roberta-base and are newly initialized: ['roberta.pooler.dense.bias', 'roberta.pooler.dense.weight']\n",
      "You should probably TRAIN this model on a down-stream task to be able to use it for predictions and inference.\n",
      "\u001b[32m2023-12-02 23:22:47.935\u001b[0m | \u001b[1mINFO    \u001b[0m | \u001b[36msrc.models.models\u001b[0m:\u001b[36m__init__\u001b[0m:\u001b[36m84\u001b[0m - \u001b[1mSssssh don't listen to the warning above, Robert can be grumpy.\u001b[0m\n",
      "\u001b[32m2023-12-02 23:22:48.646\u001b[0m | \u001b[34m\u001b[1mDEBUG   \u001b[0m | \u001b[36msrc.models.base\u001b[0m:\u001b[36m__init__\u001b[0m:\u001b[36m32\u001b[0m - \u001b[34m\u001b[1mModel caption RobertaCaptionModel initialized.\u001b[0m\n"
     ]
    },
    {
     "name": "stdout",
     "output_type": "stream",
     "text": [
      "pooler: mean, checkpoint: roberta-base, output_dim: 768, output_shape: torch.Size([1, 15]), batch_output_shape: torch.Size([2, 19])\n"
     ]
    },
    {
     "name": "stderr",
     "output_type": "stream",
     "text": [
      "Some weights of the model checkpoint at xlm-roberta-base were not used when initializing XLMRobertaForMaskedLM: ['roberta.pooler.dense.bias', 'roberta.pooler.dense.weight']\n",
      "- This IS expected if you are initializing XLMRobertaForMaskedLM from the checkpoint of a model trained on another task or with another architecture (e.g. initializing a BertForSequenceClassification model from a BertForPreTraining model).\n",
      "- This IS NOT expected if you are initializing XLMRobertaForMaskedLM from the checkpoint of a model that you expect to be exactly identical (initializing a BertForSequenceClassification model from a BertForSequenceClassification model).\n",
      "\u001b[32m2023-12-02 23:22:54.331\u001b[0m | \u001b[1mINFO    \u001b[0m | \u001b[36msrc.models.models\u001b[0m:\u001b[36m__init__\u001b[0m:\u001b[36m84\u001b[0m - \u001b[1mSssssh don't listen to the warning above, Robert can be grumpy.\u001b[0m\n",
      "\u001b[32m2023-12-02 23:22:54.595\u001b[0m | \u001b[34m\u001b[1mDEBUG   \u001b[0m | \u001b[36msrc.models.base\u001b[0m:\u001b[36m__init__\u001b[0m:\u001b[36m32\u001b[0m - \u001b[34m\u001b[1mModel caption RobertaCaptionModel initialized.\u001b[0m\n"
     ]
    },
    {
     "name": "stdout",
     "output_type": "stream",
     "text": [
      "pooler: mean, checkpoint: xlm-roberta-base, output_dim: 250002, output_shape: torch.Size([1, 15]), batch_output_shape: torch.Size([2, 19])\n"
     ]
    },
    {
     "name": "stderr",
     "output_type": "stream",
     "text": [
      "Some weights of RobertaModel were not initialized from the model checkpoint at roberta-base and are newly initialized: ['roberta.pooler.dense.bias', 'roberta.pooler.dense.weight']\n",
      "You should probably TRAIN this model on a down-stream task to be able to use it for predictions and inference.\n",
      "\u001b[32m2023-12-02 23:22:56.614\u001b[0m | \u001b[1mINFO    \u001b[0m | \u001b[36msrc.models.models\u001b[0m:\u001b[36m__init__\u001b[0m:\u001b[36m84\u001b[0m - \u001b[1mSssssh don't listen to the warning above, Robert can be grumpy.\u001b[0m\n",
      "\u001b[32m2023-12-02 23:22:57.162\u001b[0m | \u001b[34m\u001b[1mDEBUG   \u001b[0m | \u001b[36msrc.models.base\u001b[0m:\u001b[36m__init__\u001b[0m:\u001b[36m32\u001b[0m - \u001b[34m\u001b[1mModel caption RobertaCaptionModel initialized.\u001b[0m\n"
     ]
    },
    {
     "name": "stdout",
     "output_type": "stream",
     "text": [
      "pooler: max, checkpoint: roberta-base, output_dim: 768, output_shape: torch.Size([1, 768]), batch_output_shape: torch.Size([2, 768])\n"
     ]
    },
    {
     "name": "stderr",
     "output_type": "stream",
     "text": [
      "Some weights of the model checkpoint at xlm-roberta-base were not used when initializing XLMRobertaForMaskedLM: ['roberta.pooler.dense.bias', 'roberta.pooler.dense.weight']\n",
      "- This IS expected if you are initializing XLMRobertaForMaskedLM from the checkpoint of a model trained on another task or with another architecture (e.g. initializing a BertForSequenceClassification model from a BertForPreTraining model).\n",
      "- This IS NOT expected if you are initializing XLMRobertaForMaskedLM from the checkpoint of a model that you expect to be exactly identical (initializing a BertForSequenceClassification model from a BertForSequenceClassification model).\n",
      "\u001b[32m2023-12-02 23:23:02.761\u001b[0m | \u001b[1mINFO    \u001b[0m | \u001b[36msrc.models.models\u001b[0m:\u001b[36m__init__\u001b[0m:\u001b[36m84\u001b[0m - \u001b[1mSssssh don't listen to the warning above, Robert can be grumpy.\u001b[0m\n",
      "\u001b[32m2023-12-02 23:23:03.016\u001b[0m | \u001b[34m\u001b[1mDEBUG   \u001b[0m | \u001b[36msrc.models.base\u001b[0m:\u001b[36m__init__\u001b[0m:\u001b[36m32\u001b[0m - \u001b[34m\u001b[1mModel caption RobertaCaptionModel initialized.\u001b[0m\n"
     ]
    },
    {
     "name": "stdout",
     "output_type": "stream",
     "text": [
      "pooler: max, checkpoint: xlm-roberta-base, output_dim: 250002, output_shape: torch.Size([1, 250002]), batch_output_shape: torch.Size([2, 250002])\n"
     ]
    },
    {
     "name": "stderr",
     "output_type": "stream",
     "text": [
      "Some weights of RobertaModel were not initialized from the model checkpoint at roberta-base and are newly initialized: ['roberta.pooler.dense.bias', 'roberta.pooler.dense.weight']\n",
      "You should probably TRAIN this model on a down-stream task to be able to use it for predictions and inference.\n",
      "\u001b[32m2023-12-02 23:23:04.909\u001b[0m | \u001b[1mINFO    \u001b[0m | \u001b[36msrc.models.models\u001b[0m:\u001b[36m__init__\u001b[0m:\u001b[36m84\u001b[0m - \u001b[1mSssssh don't listen to the warning above, Robert can be grumpy.\u001b[0m\n",
      "\u001b[32m2023-12-02 23:23:05.452\u001b[0m | \u001b[34m\u001b[1mDEBUG   \u001b[0m | \u001b[36msrc.models.base\u001b[0m:\u001b[36m__init__\u001b[0m:\u001b[36m32\u001b[0m - \u001b[34m\u001b[1mModel caption RobertaCaptionModel initialized.\u001b[0m\n"
     ]
    },
    {
     "name": "stdout",
     "output_type": "stream",
     "text": [
      "pooler: mean_max, checkpoint: roberta-base, output_dim: 1536, output_shape: torch.Size([1, 1536]), batch_output_shape: torch.Size([2, 1536])\n"
     ]
    },
    {
     "name": "stderr",
     "output_type": "stream",
     "text": [
      "Some weights of the model checkpoint at xlm-roberta-base were not used when initializing XLMRobertaForMaskedLM: ['roberta.pooler.dense.bias', 'roberta.pooler.dense.weight']\n",
      "- This IS expected if you are initializing XLMRobertaForMaskedLM from the checkpoint of a model trained on another task or with another architecture (e.g. initializing a BertForSequenceClassification model from a BertForPreTraining model).\n",
      "- This IS NOT expected if you are initializing XLMRobertaForMaskedLM from the checkpoint of a model that you expect to be exactly identical (initializing a BertForSequenceClassification model from a BertForSequenceClassification model).\n",
      "\u001b[32m2023-12-02 23:23:11.214\u001b[0m | \u001b[1mINFO    \u001b[0m | \u001b[36msrc.models.models\u001b[0m:\u001b[36m__init__\u001b[0m:\u001b[36m84\u001b[0m - \u001b[1mSssssh don't listen to the warning above, Robert can be grumpy.\u001b[0m\n",
      "\u001b[32m2023-12-02 23:23:11.521\u001b[0m | \u001b[34m\u001b[1mDEBUG   \u001b[0m | \u001b[36msrc.models.base\u001b[0m:\u001b[36m__init__\u001b[0m:\u001b[36m32\u001b[0m - \u001b[34m\u001b[1mModel caption RobertaCaptionModel initialized.\u001b[0m\n"
     ]
    },
    {
     "name": "stdout",
     "output_type": "stream",
     "text": [
      "pooler: mean_max, checkpoint: xlm-roberta-base, output_dim: 500004, output_shape: torch.Size([1, 500004]), batch_output_shape: torch.Size([2, 500004])\n"
     ]
    },
    {
     "name": "stderr",
     "output_type": "stream",
     "text": [
      "Some weights of RobertaModel were not initialized from the model checkpoint at roberta-base and are newly initialized: ['roberta.pooler.dense.bias', 'roberta.pooler.dense.weight']\n",
      "You should probably TRAIN this model on a down-stream task to be able to use it for predictions and inference.\n",
      "\u001b[32m2023-12-02 23:23:13.555\u001b[0m | \u001b[1mINFO    \u001b[0m | \u001b[36msrc.models.models\u001b[0m:\u001b[36m__init__\u001b[0m:\u001b[36m84\u001b[0m - \u001b[1mSssssh don't listen to the warning above, Robert can be grumpy.\u001b[0m\n",
      "\u001b[32m2023-12-02 23:23:14.109\u001b[0m | \u001b[34m\u001b[1mDEBUG   \u001b[0m | \u001b[36msrc.models.base\u001b[0m:\u001b[36m__init__\u001b[0m:\u001b[36m32\u001b[0m - \u001b[34m\u001b[1mModel caption RobertaCaptionModel initialized.\u001b[0m\n"
     ]
    },
    {
     "name": "stdout",
     "output_type": "stream",
     "text": [
      "pooler: cls_mean, checkpoint: roberta-base, output_dim: 1536, output_shape: torch.Size([1, 1536]), batch_output_shape: torch.Size([2, 1536])\n"
     ]
    },
    {
     "name": "stderr",
     "output_type": "stream",
     "text": [
      "Some weights of the model checkpoint at xlm-roberta-base were not used when initializing XLMRobertaForMaskedLM: ['roberta.pooler.dense.bias', 'roberta.pooler.dense.weight']\n",
      "- This IS expected if you are initializing XLMRobertaForMaskedLM from the checkpoint of a model trained on another task or with another architecture (e.g. initializing a BertForSequenceClassification model from a BertForPreTraining model).\n",
      "- This IS NOT expected if you are initializing XLMRobertaForMaskedLM from the checkpoint of a model that you expect to be exactly identical (initializing a BertForSequenceClassification model from a BertForSequenceClassification model).\n",
      "\u001b[32m2023-12-02 23:23:20.556\u001b[0m | \u001b[1mINFO    \u001b[0m | \u001b[36msrc.models.models\u001b[0m:\u001b[36m__init__\u001b[0m:\u001b[36m84\u001b[0m - \u001b[1mSssssh don't listen to the warning above, Robert can be grumpy.\u001b[0m\n",
      "\u001b[32m2023-12-02 23:23:20.803\u001b[0m | \u001b[34m\u001b[1mDEBUG   \u001b[0m | \u001b[36msrc.models.base\u001b[0m:\u001b[36m__init__\u001b[0m:\u001b[36m32\u001b[0m - \u001b[34m\u001b[1mModel caption RobertaCaptionModel initialized.\u001b[0m\n"
     ]
    },
    {
     "name": "stdout",
     "output_type": "stream",
     "text": [
      "pooler: cls_mean, checkpoint: xlm-roberta-base, output_dim: 500004, output_shape: torch.Size([1, 500004]), batch_output_shape: torch.Size([2, 500004])\n"
     ]
    },
    {
     "name": "stderr",
     "output_type": "stream",
     "text": [
      "Some weights of RobertaModel were not initialized from the model checkpoint at roberta-base and are newly initialized: ['roberta.pooler.dense.bias', 'roberta.pooler.dense.weight']\n",
      "You should probably TRAIN this model on a down-stream task to be able to use it for predictions and inference.\n",
      "\u001b[32m2023-12-02 23:23:23.427\u001b[0m | \u001b[1mINFO    \u001b[0m | \u001b[36msrc.models.models\u001b[0m:\u001b[36m__init__\u001b[0m:\u001b[36m84\u001b[0m - \u001b[1mSssssh don't listen to the warning above, Robert can be grumpy.\u001b[0m\n",
      "\u001b[32m2023-12-02 23:23:23.990\u001b[0m | \u001b[34m\u001b[1mDEBUG   \u001b[0m | \u001b[36msrc.models.base\u001b[0m:\u001b[36m__init__\u001b[0m:\u001b[36m32\u001b[0m - \u001b[34m\u001b[1mModel caption RobertaCaptionModel initialized.\u001b[0m\n"
     ]
    },
    {
     "name": "stdout",
     "output_type": "stream",
     "text": [
      "pooler: cls_max, checkpoint: roberta-base, output_dim: 1536, output_shape: torch.Size([1, 1536]), batch_output_shape: torch.Size([2, 1536])\n"
     ]
    },
    {
     "name": "stderr",
     "output_type": "stream",
     "text": [
      "Some weights of the model checkpoint at xlm-roberta-base were not used when initializing XLMRobertaForMaskedLM: ['roberta.pooler.dense.bias', 'roberta.pooler.dense.weight']\n",
      "- This IS expected if you are initializing XLMRobertaForMaskedLM from the checkpoint of a model trained on another task or with another architecture (e.g. initializing a BertForSequenceClassification model from a BertForPreTraining model).\n",
      "- This IS NOT expected if you are initializing XLMRobertaForMaskedLM from the checkpoint of a model that you expect to be exactly identical (initializing a BertForSequenceClassification model from a BertForSequenceClassification model).\n",
      "\u001b[32m2023-12-02 23:23:29.548\u001b[0m | \u001b[1mINFO    \u001b[0m | \u001b[36msrc.models.models\u001b[0m:\u001b[36m__init__\u001b[0m:\u001b[36m84\u001b[0m - \u001b[1mSssssh don't listen to the warning above, Robert can be grumpy.\u001b[0m\n",
      "\u001b[32m2023-12-02 23:23:29.801\u001b[0m | \u001b[34m\u001b[1mDEBUG   \u001b[0m | \u001b[36msrc.models.base\u001b[0m:\u001b[36m__init__\u001b[0m:\u001b[36m32\u001b[0m - \u001b[34m\u001b[1mModel caption RobertaCaptionModel initialized.\u001b[0m\n"
     ]
    },
    {
     "name": "stdout",
     "output_type": "stream",
     "text": [
      "pooler: cls_max, checkpoint: xlm-roberta-base, output_dim: 500004, output_shape: torch.Size([1, 500004]), batch_output_shape: torch.Size([2, 500004])\n"
     ]
    },
    {
     "name": "stderr",
     "output_type": "stream",
     "text": [
      "Some weights of RobertaModel were not initialized from the model checkpoint at roberta-base and are newly initialized: ['roberta.pooler.dense.bias', 'roberta.pooler.dense.weight']\n",
      "You should probably TRAIN this model on a down-stream task to be able to use it for predictions and inference.\n",
      "\u001b[32m2023-12-02 23:23:31.616\u001b[0m | \u001b[1mINFO    \u001b[0m | \u001b[36msrc.models.models\u001b[0m:\u001b[36m__init__\u001b[0m:\u001b[36m84\u001b[0m - \u001b[1mSssssh don't listen to the warning above, Robert can be grumpy.\u001b[0m\n",
      "\u001b[32m2023-12-02 23:23:32.179\u001b[0m | \u001b[34m\u001b[1mDEBUG   \u001b[0m | \u001b[36msrc.models.base\u001b[0m:\u001b[36m__init__\u001b[0m:\u001b[36m32\u001b[0m - \u001b[34m\u001b[1mModel caption RobertaCaptionModel initialized.\u001b[0m\n"
     ]
    },
    {
     "name": "stdout",
     "output_type": "stream",
     "text": [
      "pooler: cls_mean_max, checkpoint: roberta-base, output_dim: 2304, output_shape: torch.Size([1, 2304]), batch_output_shape: torch.Size([2, 2304])\n"
     ]
    },
    {
     "name": "stderr",
     "output_type": "stream",
     "text": [
      "Some weights of the model checkpoint at xlm-roberta-base were not used when initializing XLMRobertaForMaskedLM: ['roberta.pooler.dense.bias', 'roberta.pooler.dense.weight']\n",
      "- This IS expected if you are initializing XLMRobertaForMaskedLM from the checkpoint of a model trained on another task or with another architecture (e.g. initializing a BertForSequenceClassification model from a BertForPreTraining model).\n",
      "- This IS NOT expected if you are initializing XLMRobertaForMaskedLM from the checkpoint of a model that you expect to be exactly identical (initializing a BertForSequenceClassification model from a BertForSequenceClassification model).\n",
      "\u001b[32m2023-12-02 23:23:37.782\u001b[0m | \u001b[1mINFO    \u001b[0m | \u001b[36msrc.models.models\u001b[0m:\u001b[36m__init__\u001b[0m:\u001b[36m84\u001b[0m - \u001b[1mSssssh don't listen to the warning above, Robert can be grumpy.\u001b[0m\n"
     ]
    },
    {
     "name": "stdout",
     "output_type": "stream",
     "text": [
      "pooler: cls_mean_max, checkpoint: xlm-roberta-base, output_dim: 750006, output_shape: torch.Size([1, 750006]), batch_output_shape: torch.Size([2, 750006])\n"
     ]
    }
   ],
   "source": [
    "for pooler in [\"cls\", \"mean\", \"max\", \"mean_max\", \"cls_mean\", \"cls_max\", \"cls_mean_max\"]:\n",
    "    for checkpoint in [\"roberta-base\", \"xlm-roberta-base\"]:\n",
    "        robert = robert_family(checkpoint=checkpoint, pooling=pooler)\n",
    "        print(f\"pooler: {pooler}, checkpoint: {checkpoint}, output_dim: {robert.output_dim}, output_shape: {robert(tokenizer(sample_test, return_tensors='pt', padding=True)).shape}, batch_output_shape: {robert(tokenizer(batch_sample_test, return_tensors='pt', padding=True)).shape}\")"
   ]
  },
  {
   "cell_type": "code",
   "execution_count": 16,
   "metadata": {},
   "outputs": [
    {
     "name": "stderr",
     "output_type": "stream",
     "text": [
      "\u001b[32m2023-12-02 23:23:38.055\u001b[0m | \u001b[34m\u001b[1mDEBUG   \u001b[0m | \u001b[36msrc.models.base\u001b[0m:\u001b[36m__init__\u001b[0m:\u001b[36m32\u001b[0m - \u001b[34m\u001b[1mModel caption RobertaCaptionModel initialized.\u001b[0m\n",
      "Some weights of RobertaModel were not initialized from the model checkpoint at roberta-base and are newly initialized: ['roberta.pooler.dense.bias', 'roberta.pooler.dense.weight']\n",
      "You should probably TRAIN this model on a down-stream task to be able to use it for predictions and inference.\n",
      "\u001b[32m2023-12-02 23:23:40.067\u001b[0m | \u001b[1mINFO    \u001b[0m | \u001b[36msrc.models.models\u001b[0m:\u001b[36m__init__\u001b[0m:\u001b[36m84\u001b[0m - \u001b[1mSssssh don't listen to the warning above, Robert can be grumpy.\u001b[0m\n"
     ]
    }
   ],
   "source": [
    "try:\n",
    "    robert_family(checkpoint=\"roberta-base\", pooling=\"Wrong\")\n",
    "    assert False\n",
    "except ValueError:\n",
    "    assert True"
   ]
  },
  {
   "cell_type": "code",
   "execution_count": 17,
   "metadata": {},
   "outputs": [
    {
     "name": "stderr",
     "output_type": "stream",
     "text": [
      "\u001b[32m2023-12-02 23:23:40.121\u001b[0m | \u001b[34m\u001b[1mDEBUG   \u001b[0m | \u001b[36msrc.models.base\u001b[0m:\u001b[36m__init__\u001b[0m:\u001b[36m16\u001b[0m - \u001b[34m\u001b[1mModel image DinoVisionModel initialized.\u001b[0m\n",
      "Using cache found in /Users/vladimirzaigrajew/.cache/torch/hub/facebookresearch_dinov2_main\n",
      "\u001b[32m2023-12-02 23:23:43.362\u001b[0m | \u001b[34m\u001b[1mDEBUG   \u001b[0m | \u001b[36msrc.models.base\u001b[0m:\u001b[36m__init__\u001b[0m:\u001b[36m32\u001b[0m - \u001b[34m\u001b[1mModel caption RobertaCaptionModel initialized.\u001b[0m\n",
      "Some weights of RobertaModel were not initialized from the model checkpoint at roberta-base and are newly initialized: ['roberta.pooler.dense.bias', 'roberta.pooler.dense.weight']\n",
      "You should probably TRAIN this model on a down-stream task to be able to use it for predictions and inference.\n",
      "\u001b[32m2023-12-02 23:23:45.891\u001b[0m | \u001b[1mINFO    \u001b[0m | \u001b[36msrc.models.models\u001b[0m:\u001b[36m__init__\u001b[0m:\u001b[36m84\u001b[0m - \u001b[1mSssssh don't listen to the warning above, Robert can be grumpy.\u001b[0m\n",
      "\u001b[32m2023-12-02 23:23:45.892\u001b[0m | \u001b[34m\u001b[1mDEBUG   \u001b[0m | \u001b[36msrc.models.base\u001b[0m:\u001b[36m__init__\u001b[0m:\u001b[36m50\u001b[0m - \u001b[34m\u001b[1mModel image-caption ClipAligner initialized.\u001b[0m\n"
     ]
    }
   ],
   "source": [
    "model = ClipAligner(\n",
    "    DinoVisionModel(checkpoint=\"dinov2_vitb14\", pooling=\"cls\"),\n",
    "    RobertaCaptionModel(checkpoint=\"roberta-base\", pooling=\"cls\"),\n",
    "    vision_layer=[(768, \"mlp\"), (512, \"mlp\")],\n",
    "    caption_layer=[(768, \"mlp\"), (512, \"mlp\")],\n",
    ")"
   ]
  },
  {
   "cell_type": "code",
   "execution_count": 18,
   "metadata": {},
   "outputs": [],
   "source": [
    "trans, tokenizer = model.get_basic_transformations()\n",
    "trans = transforms.Compose(trans)"
   ]
  },
  {
   "cell_type": "code",
   "execution_count": 19,
   "metadata": {},
   "outputs": [],
   "source": [
    "with torch.inference_mode():\n",
    "    output_test = model(trans(sample_image), tokenizer(sample_test, return_tensors=\"pt\", padding=True))\n",
    "    output_batch_test = model(trans(batch_sample_image), tokenizer(batch_sample_test, return_tensors=\"pt\", padding=True))"
   ]
  },
  {
   "cell_type": "code",
   "execution_count": 20,
   "metadata": {},
   "outputs": [
    {
     "data": {
      "text/plain": [
       "(torch.Size([1, 512]),\n",
       " torch.Size([2, 512]),\n",
       " torch.Size([1, 512]),\n",
       " torch.Size([2, 512]),\n",
       " 512)"
      ]
     },
     "execution_count": 20,
     "metadata": {},
     "output_type": "execute_result"
    }
   ],
   "source": [
    "output_test[0].shape, output_batch_test[0].shape, output_test[1].shape, output_batch_test[1].shape, model.output_dim"
   ]
  },
  {
   "cell_type": "code",
   "execution_count": 21,
   "metadata": {},
   "outputs": [
    {
     "name": "stderr",
     "output_type": "stream",
     "text": [
      "\u001b[32m2023-12-02 23:23:46.625\u001b[0m | \u001b[34m\u001b[1mDEBUG   \u001b[0m | \u001b[36msrc.models.base\u001b[0m:\u001b[36m__init__\u001b[0m:\u001b[36m16\u001b[0m - \u001b[34m\u001b[1mModel image DinoVisionModel initialized.\u001b[0m\n",
      "Using cache found in /Users/vladimirzaigrajew/.cache/torch/hub/facebookresearch_dinov2_main\n",
      "\u001b[32m2023-12-02 23:23:49.958\u001b[0m | \u001b[34m\u001b[1mDEBUG   \u001b[0m | \u001b[36msrc.models.base\u001b[0m:\u001b[36m__init__\u001b[0m:\u001b[36m32\u001b[0m - \u001b[34m\u001b[1mModel caption RobertaCaptionModel initialized.\u001b[0m\n",
      "Some weights of RobertaModel were not initialized from the model checkpoint at roberta-base and are newly initialized: ['roberta.pooler.dense.bias', 'roberta.pooler.dense.weight']\n",
      "You should probably TRAIN this model on a down-stream task to be able to use it for predictions and inference.\n",
      "\u001b[32m2023-12-02 23:23:52.117\u001b[0m | \u001b[1mINFO    \u001b[0m | \u001b[36msrc.models.models\u001b[0m:\u001b[36m__init__\u001b[0m:\u001b[36m84\u001b[0m - \u001b[1mSssssh don't listen to the warning above, Robert can be grumpy.\u001b[0m\n",
      "\u001b[32m2023-12-02 23:23:52.118\u001b[0m | \u001b[34m\u001b[1mDEBUG   \u001b[0m | \u001b[36msrc.models.base\u001b[0m:\u001b[36m__init__\u001b[0m:\u001b[36m50\u001b[0m - \u001b[34m\u001b[1mModel image-caption ClipAligner initialized.\u001b[0m\n",
      "\u001b[32m2023-12-02 23:23:52.390\u001b[0m | \u001b[34m\u001b[1mDEBUG   \u001b[0m | \u001b[36msrc.models.base\u001b[0m:\u001b[36m__init__\u001b[0m:\u001b[36m16\u001b[0m - \u001b[34m\u001b[1mModel image DinoVisionModel initialized.\u001b[0m\n"
     ]
    },
    {
     "name": "stdout",
     "output_type": "stream",
     "text": [
      "pooler: cls, vision_layer: [(768, 'mlp'), (512, 'mlp')], caption_layer: [(768, 'mlp'), (512, 'mlp')], output_dim: 512, output_shape_image: torch.Size([1, 512]), output_shape_caption: torch.Size([1, 512])\n"
     ]
    },
    {
     "name": "stderr",
     "output_type": "stream",
     "text": [
      "Using cache found in /Users/vladimirzaigrajew/.cache/torch/hub/facebookresearch_dinov2_main\n",
      "\u001b[32m2023-12-02 23:23:55.325\u001b[0m | \u001b[34m\u001b[1mDEBUG   \u001b[0m | \u001b[36msrc.models.base\u001b[0m:\u001b[36m__init__\u001b[0m:\u001b[36m32\u001b[0m - \u001b[34m\u001b[1mModel caption RobertaCaptionModel initialized.\u001b[0m\n",
      "Some weights of RobertaModel were not initialized from the model checkpoint at roberta-base and are newly initialized: ['roberta.pooler.dense.bias', 'roberta.pooler.dense.weight']\n",
      "You should probably TRAIN this model on a down-stream task to be able to use it for predictions and inference.\n",
      "\u001b[32m2023-12-02 23:23:57.184\u001b[0m | \u001b[1mINFO    \u001b[0m | \u001b[36msrc.models.models\u001b[0m:\u001b[36m__init__\u001b[0m:\u001b[36m84\u001b[0m - \u001b[1mSssssh don't listen to the warning above, Robert can be grumpy.\u001b[0m\n",
      "\u001b[32m2023-12-02 23:23:57.184\u001b[0m | \u001b[34m\u001b[1mDEBUG   \u001b[0m | \u001b[36msrc.models.base\u001b[0m:\u001b[36m__init__\u001b[0m:\u001b[36m50\u001b[0m - \u001b[34m\u001b[1mModel image-caption ClipAligner initialized.\u001b[0m\n",
      "\u001b[32m2023-12-02 23:23:57.497\u001b[0m | \u001b[34m\u001b[1mDEBUG   \u001b[0m | \u001b[36msrc.models.base\u001b[0m:\u001b[36m__init__\u001b[0m:\u001b[36m16\u001b[0m - \u001b[34m\u001b[1mModel image DinoVisionModel initialized.\u001b[0m\n"
     ]
    },
    {
     "name": "stdout",
     "output_type": "stream",
     "text": [
      "pooler: mean, vision_layer: [(768, 'mlp'), (512, 'mlp')], caption_layer: [(768, 'mlp'), (512, 'mlp')], output_dim: 512, output_shape_image: torch.Size([1, 512]), output_shape_caption: torch.Size([1, 512])\n"
     ]
    },
    {
     "name": "stderr",
     "output_type": "stream",
     "text": [
      "Using cache found in /Users/vladimirzaigrajew/.cache/torch/hub/facebookresearch_dinov2_main\n",
      "\u001b[32m2023-12-02 23:23:59.855\u001b[0m | \u001b[34m\u001b[1mDEBUG   \u001b[0m | \u001b[36msrc.models.base\u001b[0m:\u001b[36m__init__\u001b[0m:\u001b[36m32\u001b[0m - \u001b[34m\u001b[1mModel caption RobertaCaptionModel initialized.\u001b[0m\n",
      "Some weights of RobertaModel were not initialized from the model checkpoint at roberta-base and are newly initialized: ['roberta.pooler.dense.bias', 'roberta.pooler.dense.weight']\n",
      "You should probably TRAIN this model on a down-stream task to be able to use it for predictions and inference.\n",
      "\u001b[32m2023-12-02 23:24:01.678\u001b[0m | \u001b[1mINFO    \u001b[0m | \u001b[36msrc.models.models\u001b[0m:\u001b[36m__init__\u001b[0m:\u001b[36m84\u001b[0m - \u001b[1mSssssh don't listen to the warning above, Robert can be grumpy.\u001b[0m\n",
      "\u001b[32m2023-12-02 23:24:01.679\u001b[0m | \u001b[34m\u001b[1mDEBUG   \u001b[0m | \u001b[36msrc.models.base\u001b[0m:\u001b[36m__init__\u001b[0m:\u001b[36m50\u001b[0m - \u001b[34m\u001b[1mModel image-caption ClipAligner initialized.\u001b[0m\n",
      "\u001b[32m2023-12-02 23:24:01.970\u001b[0m | \u001b[34m\u001b[1mDEBUG   \u001b[0m | \u001b[36msrc.models.base\u001b[0m:\u001b[36m__init__\u001b[0m:\u001b[36m16\u001b[0m - \u001b[34m\u001b[1mModel image DinoVisionModel initialized.\u001b[0m\n"
     ]
    },
    {
     "name": "stdout",
     "output_type": "stream",
     "text": [
      "pooler: mean_max, vision_layer: [(768, 'mlp'), (512, 'mlp')], caption_layer: [(768, 'mlp'), (512, 'mlp')], output_dim: 512, output_shape_image: torch.Size([1, 512]), output_shape_caption: torch.Size([1, 512])\n"
     ]
    },
    {
     "name": "stderr",
     "output_type": "stream",
     "text": [
      "Using cache found in /Users/vladimirzaigrajew/.cache/torch/hub/facebookresearch_dinov2_main\n",
      "\u001b[32m2023-12-02 23:24:04.772\u001b[0m | \u001b[34m\u001b[1mDEBUG   \u001b[0m | \u001b[36msrc.models.base\u001b[0m:\u001b[36m__init__\u001b[0m:\u001b[36m32\u001b[0m - \u001b[34m\u001b[1mModel caption RobertaCaptionModel initialized.\u001b[0m\n",
      "Some weights of RobertaModel were not initialized from the model checkpoint at roberta-base and are newly initialized: ['roberta.pooler.dense.bias', 'roberta.pooler.dense.weight']\n",
      "You should probably TRAIN this model on a down-stream task to be able to use it for predictions and inference.\n",
      "\u001b[32m2023-12-02 23:24:06.826\u001b[0m | \u001b[1mINFO    \u001b[0m | \u001b[36msrc.models.models\u001b[0m:\u001b[36m__init__\u001b[0m:\u001b[36m84\u001b[0m - \u001b[1mSssssh don't listen to the warning above, Robert can be grumpy.\u001b[0m\n",
      "\u001b[32m2023-12-02 23:24:06.827\u001b[0m | \u001b[34m\u001b[1mDEBUG   \u001b[0m | \u001b[36msrc.models.base\u001b[0m:\u001b[36m__init__\u001b[0m:\u001b[36m50\u001b[0m - \u001b[34m\u001b[1mModel image-caption ClipAligner initialized.\u001b[0m\n",
      "\u001b[32m2023-12-02 23:24:07.123\u001b[0m | \u001b[34m\u001b[1mDEBUG   \u001b[0m | \u001b[36msrc.models.base\u001b[0m:\u001b[36m__init__\u001b[0m:\u001b[36m16\u001b[0m - \u001b[34m\u001b[1mModel image DinoVisionModel initialized.\u001b[0m\n"
     ]
    },
    {
     "name": "stdout",
     "output_type": "stream",
     "text": [
      "pooler: cls_mean_max, vision_layer: [(768, 'mlp'), (512, 'mlp')], caption_layer: [(768, 'mlp'), (512, 'mlp')], output_dim: 512, output_shape_image: torch.Size([1, 512]), output_shape_caption: torch.Size([1, 512])\n"
     ]
    },
    {
     "name": "stderr",
     "output_type": "stream",
     "text": [
      "Using cache found in /Users/vladimirzaigrajew/.cache/torch/hub/facebookresearch_dinov2_main\n",
      "\u001b[32m2023-12-02 23:24:09.938\u001b[0m | \u001b[34m\u001b[1mDEBUG   \u001b[0m | \u001b[36msrc.models.base\u001b[0m:\u001b[36m__init__\u001b[0m:\u001b[36m32\u001b[0m - \u001b[34m\u001b[1mModel caption RobertaCaptionModel initialized.\u001b[0m\n",
      "Some weights of RobertaModel were not initialized from the model checkpoint at roberta-base and are newly initialized: ['roberta.pooler.dense.bias', 'roberta.pooler.dense.weight']\n",
      "You should probably TRAIN this model on a down-stream task to be able to use it for predictions and inference.\n",
      "\u001b[32m2023-12-02 23:24:11.716\u001b[0m | \u001b[1mINFO    \u001b[0m | \u001b[36msrc.models.models\u001b[0m:\u001b[36m__init__\u001b[0m:\u001b[36m84\u001b[0m - \u001b[1mSssssh don't listen to the warning above, Robert can be grumpy.\u001b[0m\n",
      "\u001b[32m2023-12-02 23:24:11.717\u001b[0m | \u001b[34m\u001b[1mDEBUG   \u001b[0m | \u001b[36msrc.models.base\u001b[0m:\u001b[36m__init__\u001b[0m:\u001b[36m50\u001b[0m - \u001b[34m\u001b[1mModel image-caption ClipAligner initialized.\u001b[0m\n",
      "\u001b[32m2023-12-02 23:24:12.011\u001b[0m | \u001b[34m\u001b[1mDEBUG   \u001b[0m | \u001b[36msrc.models.base\u001b[0m:\u001b[36m__init__\u001b[0m:\u001b[36m16\u001b[0m - \u001b[34m\u001b[1mModel image DinoVisionModel initialized.\u001b[0m\n"
     ]
    },
    {
     "name": "stdout",
     "output_type": "stream",
     "text": [
      "pooler: cls, vision_layer: [(768, 'conv'), (512, 'conv')], caption_layer: [(768, 'conv'), (512, 'conv')], output_dim: 512, output_shape_image: torch.Size([1, 512]), output_shape_caption: torch.Size([1, 512])\n"
     ]
    },
    {
     "name": "stderr",
     "output_type": "stream",
     "text": [
      "Using cache found in /Users/vladimirzaigrajew/.cache/torch/hub/facebookresearch_dinov2_main\n",
      "\u001b[32m2023-12-02 23:24:15.122\u001b[0m | \u001b[34m\u001b[1mDEBUG   \u001b[0m | \u001b[36msrc.models.base\u001b[0m:\u001b[36m__init__\u001b[0m:\u001b[36m32\u001b[0m - \u001b[34m\u001b[1mModel caption RobertaCaptionModel initialized.\u001b[0m\n",
      "Some weights of RobertaModel were not initialized from the model checkpoint at roberta-base and are newly initialized: ['roberta.pooler.dense.bias', 'roberta.pooler.dense.weight']\n",
      "You should probably TRAIN this model on a down-stream task to be able to use it for predictions and inference.\n",
      "\u001b[32m2023-12-02 23:24:17.926\u001b[0m | \u001b[1mINFO    \u001b[0m | \u001b[36msrc.models.models\u001b[0m:\u001b[36m__init__\u001b[0m:\u001b[36m84\u001b[0m - \u001b[1mSssssh don't listen to the warning above, Robert can be grumpy.\u001b[0m\n",
      "\u001b[32m2023-12-02 23:24:17.927\u001b[0m | \u001b[34m\u001b[1mDEBUG   \u001b[0m | \u001b[36msrc.models.base\u001b[0m:\u001b[36m__init__\u001b[0m:\u001b[36m50\u001b[0m - \u001b[34m\u001b[1mModel image-caption ClipAligner initialized.\u001b[0m\n",
      "\u001b[32m2023-12-02 23:24:18.207\u001b[0m | \u001b[34m\u001b[1mDEBUG   \u001b[0m | \u001b[36msrc.models.base\u001b[0m:\u001b[36m__init__\u001b[0m:\u001b[36m16\u001b[0m - \u001b[34m\u001b[1mModel image DinoVisionModel initialized.\u001b[0m\n"
     ]
    },
    {
     "name": "stdout",
     "output_type": "stream",
     "text": [
      "pooler: mean, vision_layer: [(768, 'conv'), (512, 'conv')], caption_layer: [(768, 'conv'), (512, 'conv')], output_dim: 512, output_shape_image: torch.Size([1, 512]), output_shape_caption: torch.Size([1, 512])\n"
     ]
    },
    {
     "name": "stderr",
     "output_type": "stream",
     "text": [
      "Using cache found in /Users/vladimirzaigrajew/.cache/torch/hub/facebookresearch_dinov2_main\n",
      "\u001b[32m2023-12-02 23:24:20.686\u001b[0m | \u001b[34m\u001b[1mDEBUG   \u001b[0m | \u001b[36msrc.models.base\u001b[0m:\u001b[36m__init__\u001b[0m:\u001b[36m32\u001b[0m - \u001b[34m\u001b[1mModel caption RobertaCaptionModel initialized.\u001b[0m\n",
      "Some weights of RobertaModel were not initialized from the model checkpoint at roberta-base and are newly initialized: ['roberta.pooler.dense.bias', 'roberta.pooler.dense.weight']\n",
      "You should probably TRAIN this model on a down-stream task to be able to use it for predictions and inference.\n",
      "\u001b[32m2023-12-02 23:24:22.345\u001b[0m | \u001b[1mINFO    \u001b[0m | \u001b[36msrc.models.models\u001b[0m:\u001b[36m__init__\u001b[0m:\u001b[36m84\u001b[0m - \u001b[1mSssssh don't listen to the warning above, Robert can be grumpy.\u001b[0m\n",
      "\u001b[32m2023-12-02 23:24:22.345\u001b[0m | \u001b[34m\u001b[1mDEBUG   \u001b[0m | \u001b[36msrc.models.base\u001b[0m:\u001b[36m__init__\u001b[0m:\u001b[36m50\u001b[0m - \u001b[34m\u001b[1mModel image-caption ClipAligner initialized.\u001b[0m\n",
      "\u001b[32m2023-12-02 23:24:22.624\u001b[0m | \u001b[34m\u001b[1mDEBUG   \u001b[0m | \u001b[36msrc.models.base\u001b[0m:\u001b[36m__init__\u001b[0m:\u001b[36m16\u001b[0m - \u001b[34m\u001b[1mModel image DinoVisionModel initialized.\u001b[0m\n"
     ]
    },
    {
     "name": "stdout",
     "output_type": "stream",
     "text": [
      "pooler: mean_max, vision_layer: [(768, 'conv'), (512, 'conv')], caption_layer: [(768, 'conv'), (512, 'conv')], output_dim: 512, output_shape_image: torch.Size([1, 512]), output_shape_caption: torch.Size([1, 512])\n"
     ]
    },
    {
     "name": "stderr",
     "output_type": "stream",
     "text": [
      "Using cache found in /Users/vladimirzaigrajew/.cache/torch/hub/facebookresearch_dinov2_main\n",
      "\u001b[32m2023-12-02 23:24:25.978\u001b[0m | \u001b[34m\u001b[1mDEBUG   \u001b[0m | \u001b[36msrc.models.base\u001b[0m:\u001b[36m__init__\u001b[0m:\u001b[36m32\u001b[0m - \u001b[34m\u001b[1mModel caption RobertaCaptionModel initialized.\u001b[0m\n",
      "Some weights of RobertaModel were not initialized from the model checkpoint at roberta-base and are newly initialized: ['roberta.pooler.dense.bias', 'roberta.pooler.dense.weight']\n",
      "You should probably TRAIN this model on a down-stream task to be able to use it for predictions and inference.\n",
      "\u001b[32m2023-12-02 23:24:28.047\u001b[0m | \u001b[1mINFO    \u001b[0m | \u001b[36msrc.models.models\u001b[0m:\u001b[36m__init__\u001b[0m:\u001b[36m84\u001b[0m - \u001b[1mSssssh don't listen to the warning above, Robert can be grumpy.\u001b[0m\n",
      "\u001b[32m2023-12-02 23:24:28.049\u001b[0m | \u001b[34m\u001b[1mDEBUG   \u001b[0m | \u001b[36msrc.models.base\u001b[0m:\u001b[36m__init__\u001b[0m:\u001b[36m50\u001b[0m - \u001b[34m\u001b[1mModel image-caption ClipAligner initialized.\u001b[0m\n",
      "\u001b[32m2023-12-02 23:24:28.338\u001b[0m | \u001b[34m\u001b[1mDEBUG   \u001b[0m | \u001b[36msrc.models.base\u001b[0m:\u001b[36m__init__\u001b[0m:\u001b[36m16\u001b[0m - \u001b[34m\u001b[1mModel image DinoVisionModel initialized.\u001b[0m\n"
     ]
    },
    {
     "name": "stdout",
     "output_type": "stream",
     "text": [
      "pooler: cls_mean_max, vision_layer: [(768, 'conv'), (512, 'conv')], caption_layer: [(768, 'conv'), (512, 'conv')], output_dim: 512, output_shape_image: torch.Size([1, 512]), output_shape_caption: torch.Size([1, 512])\n"
     ]
    },
    {
     "name": "stderr",
     "output_type": "stream",
     "text": [
      "Using cache found in /Users/vladimirzaigrajew/.cache/torch/hub/facebookresearch_dinov2_main\n",
      "\u001b[32m2023-12-02 23:24:31.436\u001b[0m | \u001b[34m\u001b[1mDEBUG   \u001b[0m | \u001b[36msrc.models.base\u001b[0m:\u001b[36m__init__\u001b[0m:\u001b[36m32\u001b[0m - \u001b[34m\u001b[1mModel caption RobertaCaptionModel initialized.\u001b[0m\n",
      "Some weights of RobertaModel were not initialized from the model checkpoint at roberta-base and are newly initialized: ['roberta.pooler.dense.bias', 'roberta.pooler.dense.weight']\n",
      "You should probably TRAIN this model on a down-stream task to be able to use it for predictions and inference.\n",
      "\u001b[32m2023-12-02 23:24:33.208\u001b[0m | \u001b[1mINFO    \u001b[0m | \u001b[36msrc.models.models\u001b[0m:\u001b[36m__init__\u001b[0m:\u001b[36m84\u001b[0m - \u001b[1mSssssh don't listen to the warning above, Robert can be grumpy.\u001b[0m\n",
      "\u001b[32m2023-12-02 23:24:33.209\u001b[0m | \u001b[34m\u001b[1mDEBUG   \u001b[0m | \u001b[36msrc.models.base\u001b[0m:\u001b[36m__init__\u001b[0m:\u001b[36m50\u001b[0m - \u001b[34m\u001b[1mModel image-caption ClipAligner initialized.\u001b[0m\n",
      "\u001b[32m2023-12-02 23:24:33.511\u001b[0m | \u001b[34m\u001b[1mDEBUG   \u001b[0m | \u001b[36msrc.models.base\u001b[0m:\u001b[36m__init__\u001b[0m:\u001b[36m16\u001b[0m - \u001b[34m\u001b[1mModel image DinoVisionModel initialized.\u001b[0m\n"
     ]
    },
    {
     "name": "stdout",
     "output_type": "stream",
     "text": [
      "pooler: cls, vision_layer: [(768, 'res'), (512, 'res')], caption_layer: [(768, 'res'), (512, 'res')], output_dim: 512, output_shape_image: torch.Size([1, 512]), output_shape_caption: torch.Size([1, 512])\n"
     ]
    },
    {
     "name": "stderr",
     "output_type": "stream",
     "text": [
      "Using cache found in /Users/vladimirzaigrajew/.cache/torch/hub/facebookresearch_dinov2_main\n",
      "\u001b[32m2023-12-02 23:24:37.655\u001b[0m | \u001b[34m\u001b[1mDEBUG   \u001b[0m | \u001b[36msrc.models.base\u001b[0m:\u001b[36m__init__\u001b[0m:\u001b[36m32\u001b[0m - \u001b[34m\u001b[1mModel caption RobertaCaptionModel initialized.\u001b[0m\n",
      "Some weights of RobertaModel were not initialized from the model checkpoint at roberta-base and are newly initialized: ['roberta.pooler.dense.bias', 'roberta.pooler.dense.weight']\n",
      "You should probably TRAIN this model on a down-stream task to be able to use it for predictions and inference.\n",
      "\u001b[32m2023-12-02 23:24:39.720\u001b[0m | \u001b[1mINFO    \u001b[0m | \u001b[36msrc.models.models\u001b[0m:\u001b[36m__init__\u001b[0m:\u001b[36m84\u001b[0m - \u001b[1mSssssh don't listen to the warning above, Robert can be grumpy.\u001b[0m\n",
      "\u001b[32m2023-12-02 23:24:39.721\u001b[0m | \u001b[34m\u001b[1mDEBUG   \u001b[0m | \u001b[36msrc.models.base\u001b[0m:\u001b[36m__init__\u001b[0m:\u001b[36m50\u001b[0m - \u001b[34m\u001b[1mModel image-caption ClipAligner initialized.\u001b[0m\n",
      "\u001b[32m2023-12-02 23:24:40.032\u001b[0m | \u001b[34m\u001b[1mDEBUG   \u001b[0m | \u001b[36msrc.models.base\u001b[0m:\u001b[36m__init__\u001b[0m:\u001b[36m16\u001b[0m - \u001b[34m\u001b[1mModel image DinoVisionModel initialized.\u001b[0m\n"
     ]
    },
    {
     "name": "stdout",
     "output_type": "stream",
     "text": [
      "pooler: mean, vision_layer: [(768, 'res'), (512, 'res')], caption_layer: [(768, 'res'), (512, 'res')], output_dim: 512, output_shape_image: torch.Size([1, 512]), output_shape_caption: torch.Size([1, 512])\n"
     ]
    },
    {
     "name": "stderr",
     "output_type": "stream",
     "text": [
      "Using cache found in /Users/vladimirzaigrajew/.cache/torch/hub/facebookresearch_dinov2_main\n",
      "\u001b[32m2023-12-02 23:24:42.736\u001b[0m | \u001b[34m\u001b[1mDEBUG   \u001b[0m | \u001b[36msrc.models.base\u001b[0m:\u001b[36m__init__\u001b[0m:\u001b[36m32\u001b[0m - \u001b[34m\u001b[1mModel caption RobertaCaptionModel initialized.\u001b[0m\n",
      "Some weights of RobertaModel were not initialized from the model checkpoint at roberta-base and are newly initialized: ['roberta.pooler.dense.bias', 'roberta.pooler.dense.weight']\n",
      "You should probably TRAIN this model on a down-stream task to be able to use it for predictions and inference.\n",
      "\u001b[32m2023-12-02 23:24:45.079\u001b[0m | \u001b[1mINFO    \u001b[0m | \u001b[36msrc.models.models\u001b[0m:\u001b[36m__init__\u001b[0m:\u001b[36m84\u001b[0m - \u001b[1mSssssh don't listen to the warning above, Robert can be grumpy.\u001b[0m\n",
      "\u001b[32m2023-12-02 23:24:45.080\u001b[0m | \u001b[34m\u001b[1mDEBUG   \u001b[0m | \u001b[36msrc.models.base\u001b[0m:\u001b[36m__init__\u001b[0m:\u001b[36m50\u001b[0m - \u001b[34m\u001b[1mModel image-caption ClipAligner initialized.\u001b[0m\n",
      "\u001b[32m2023-12-02 23:24:45.371\u001b[0m | \u001b[34m\u001b[1mDEBUG   \u001b[0m | \u001b[36msrc.models.base\u001b[0m:\u001b[36m__init__\u001b[0m:\u001b[36m16\u001b[0m - \u001b[34m\u001b[1mModel image DinoVisionModel initialized.\u001b[0m\n"
     ]
    },
    {
     "name": "stdout",
     "output_type": "stream",
     "text": [
      "pooler: mean_max, vision_layer: [(768, 'res'), (512, 'res')], caption_layer: [(768, 'res'), (512, 'res')], output_dim: 512, output_shape_image: torch.Size([1, 512]), output_shape_caption: torch.Size([1, 512])\n"
     ]
    },
    {
     "name": "stderr",
     "output_type": "stream",
     "text": [
      "Using cache found in /Users/vladimirzaigrajew/.cache/torch/hub/facebookresearch_dinov2_main\n",
      "\u001b[32m2023-12-02 23:24:47.988\u001b[0m | \u001b[34m\u001b[1mDEBUG   \u001b[0m | \u001b[36msrc.models.base\u001b[0m:\u001b[36m__init__\u001b[0m:\u001b[36m32\u001b[0m - \u001b[34m\u001b[1mModel caption RobertaCaptionModel initialized.\u001b[0m\n",
      "Some weights of RobertaModel were not initialized from the model checkpoint at roberta-base and are newly initialized: ['roberta.pooler.dense.bias', 'roberta.pooler.dense.weight']\n",
      "You should probably TRAIN this model on a down-stream task to be able to use it for predictions and inference.\n",
      "\u001b[32m2023-12-02 23:24:49.699\u001b[0m | \u001b[1mINFO    \u001b[0m | \u001b[36msrc.models.models\u001b[0m:\u001b[36m__init__\u001b[0m:\u001b[36m84\u001b[0m - \u001b[1mSssssh don't listen to the warning above, Robert can be grumpy.\u001b[0m\n",
      "\u001b[32m2023-12-02 23:24:49.700\u001b[0m | \u001b[34m\u001b[1mDEBUG   \u001b[0m | \u001b[36msrc.models.base\u001b[0m:\u001b[36m__init__\u001b[0m:\u001b[36m50\u001b[0m - \u001b[34m\u001b[1mModel image-caption ClipAligner initialized.\u001b[0m\n",
      "\u001b[32m2023-12-02 23:24:50.032\u001b[0m | \u001b[34m\u001b[1mDEBUG   \u001b[0m | \u001b[36msrc.models.base\u001b[0m:\u001b[36m__init__\u001b[0m:\u001b[36m16\u001b[0m - \u001b[34m\u001b[1mModel image DinoVisionModel initialized.\u001b[0m\n"
     ]
    },
    {
     "name": "stdout",
     "output_type": "stream",
     "text": [
      "pooler: cls_mean_max, vision_layer: [(768, 'res'), (512, 'res')], caption_layer: [(768, 'res'), (512, 'res')], output_dim: 512, output_shape_image: torch.Size([1, 512]), output_shape_caption: torch.Size([1, 512])\n"
     ]
    },
    {
     "name": "stderr",
     "output_type": "stream",
     "text": [
      "Using cache found in /Users/vladimirzaigrajew/.cache/torch/hub/facebookresearch_dinov2_main\n",
      "\u001b[32m2023-12-02 23:24:52.410\u001b[0m | \u001b[34m\u001b[1mDEBUG   \u001b[0m | \u001b[36msrc.models.base\u001b[0m:\u001b[36m__init__\u001b[0m:\u001b[36m32\u001b[0m - \u001b[34m\u001b[1mModel caption RobertaCaptionModel initialized.\u001b[0m\n",
      "Some weights of RobertaModel were not initialized from the model checkpoint at roberta-base and are newly initialized: ['roberta.pooler.dense.bias', 'roberta.pooler.dense.weight']\n",
      "You should probably TRAIN this model on a down-stream task to be able to use it for predictions and inference.\n",
      "\u001b[32m2023-12-02 23:24:54.039\u001b[0m | \u001b[1mINFO    \u001b[0m | \u001b[36msrc.models.models\u001b[0m:\u001b[36m__init__\u001b[0m:\u001b[36m84\u001b[0m - \u001b[1mSssssh don't listen to the warning above, Robert can be grumpy.\u001b[0m\n",
      "\u001b[32m2023-12-02 23:24:54.040\u001b[0m | \u001b[34m\u001b[1mDEBUG   \u001b[0m | \u001b[36msrc.models.base\u001b[0m:\u001b[36m__init__\u001b[0m:\u001b[36m50\u001b[0m - \u001b[34m\u001b[1mModel image-caption ClipAligner initialized.\u001b[0m\n",
      "\u001b[32m2023-12-02 23:24:54.344\u001b[0m | \u001b[34m\u001b[1mDEBUG   \u001b[0m | \u001b[36msrc.models.base\u001b[0m:\u001b[36m__init__\u001b[0m:\u001b[36m16\u001b[0m - \u001b[34m\u001b[1mModel image DinoVisionModel initialized.\u001b[0m\n"
     ]
    },
    {
     "name": "stdout",
     "output_type": "stream",
     "text": [
      "pooler: cls, vision_layer: [(768, 'res'), (512, 'conv'), (256, 'mlp')], caption_layer: [(768, 'res'), (512, 'conv'), (256, 'mlp')], output_dim: 256, output_shape_image: torch.Size([1, 256]), output_shape_caption: torch.Size([1, 256])\n"
     ]
    },
    {
     "name": "stderr",
     "output_type": "stream",
     "text": [
      "Using cache found in /Users/vladimirzaigrajew/.cache/torch/hub/facebookresearch_dinov2_main\n",
      "\u001b[32m2023-12-02 23:24:56.708\u001b[0m | \u001b[34m\u001b[1mDEBUG   \u001b[0m | \u001b[36msrc.models.base\u001b[0m:\u001b[36m__init__\u001b[0m:\u001b[36m32\u001b[0m - \u001b[34m\u001b[1mModel caption RobertaCaptionModel initialized.\u001b[0m\n",
      "Some weights of RobertaModel were not initialized from the model checkpoint at roberta-base and are newly initialized: ['roberta.pooler.dense.bias', 'roberta.pooler.dense.weight']\n",
      "You should probably TRAIN this model on a down-stream task to be able to use it for predictions and inference.\n",
      "\u001b[32m2023-12-02 23:24:58.509\u001b[0m | \u001b[1mINFO    \u001b[0m | \u001b[36msrc.models.models\u001b[0m:\u001b[36m__init__\u001b[0m:\u001b[36m84\u001b[0m - \u001b[1mSssssh don't listen to the warning above, Robert can be grumpy.\u001b[0m\n",
      "\u001b[32m2023-12-02 23:24:58.510\u001b[0m | \u001b[34m\u001b[1mDEBUG   \u001b[0m | \u001b[36msrc.models.base\u001b[0m:\u001b[36m__init__\u001b[0m:\u001b[36m50\u001b[0m - \u001b[34m\u001b[1mModel image-caption ClipAligner initialized.\u001b[0m\n",
      "\u001b[32m2023-12-02 23:24:58.826\u001b[0m | \u001b[34m\u001b[1mDEBUG   \u001b[0m | \u001b[36msrc.models.base\u001b[0m:\u001b[36m__init__\u001b[0m:\u001b[36m16\u001b[0m - \u001b[34m\u001b[1mModel image DinoVisionModel initialized.\u001b[0m\n"
     ]
    },
    {
     "name": "stdout",
     "output_type": "stream",
     "text": [
      "pooler: mean, vision_layer: [(768, 'res'), (512, 'conv'), (256, 'mlp')], caption_layer: [(768, 'res'), (512, 'conv'), (256, 'mlp')], output_dim: 256, output_shape_image: torch.Size([1, 256]), output_shape_caption: torch.Size([1, 256])\n"
     ]
    },
    {
     "name": "stderr",
     "output_type": "stream",
     "text": [
      "Using cache found in /Users/vladimirzaigrajew/.cache/torch/hub/facebookresearch_dinov2_main\n",
      "\u001b[32m2023-12-02 23:25:02.105\u001b[0m | \u001b[34m\u001b[1mDEBUG   \u001b[0m | \u001b[36msrc.models.base\u001b[0m:\u001b[36m__init__\u001b[0m:\u001b[36m32\u001b[0m - \u001b[34m\u001b[1mModel caption RobertaCaptionModel initialized.\u001b[0m\n",
      "Some weights of RobertaModel were not initialized from the model checkpoint at roberta-base and are newly initialized: ['roberta.pooler.dense.bias', 'roberta.pooler.dense.weight']\n",
      "You should probably TRAIN this model on a down-stream task to be able to use it for predictions and inference.\n",
      "\u001b[32m2023-12-02 23:25:03.866\u001b[0m | \u001b[1mINFO    \u001b[0m | \u001b[36msrc.models.models\u001b[0m:\u001b[36m__init__\u001b[0m:\u001b[36m84\u001b[0m - \u001b[1mSssssh don't listen to the warning above, Robert can be grumpy.\u001b[0m\n",
      "\u001b[32m2023-12-02 23:25:03.868\u001b[0m | \u001b[34m\u001b[1mDEBUG   \u001b[0m | \u001b[36msrc.models.base\u001b[0m:\u001b[36m__init__\u001b[0m:\u001b[36m50\u001b[0m - \u001b[34m\u001b[1mModel image-caption ClipAligner initialized.\u001b[0m\n",
      "\u001b[32m2023-12-02 23:25:04.178\u001b[0m | \u001b[34m\u001b[1mDEBUG   \u001b[0m | \u001b[36msrc.models.base\u001b[0m:\u001b[36m__init__\u001b[0m:\u001b[36m16\u001b[0m - \u001b[34m\u001b[1mModel image DinoVisionModel initialized.\u001b[0m\n"
     ]
    },
    {
     "name": "stdout",
     "output_type": "stream",
     "text": [
      "pooler: mean_max, vision_layer: [(768, 'res'), (512, 'conv'), (256, 'mlp')], caption_layer: [(768, 'res'), (512, 'conv'), (256, 'mlp')], output_dim: 256, output_shape_image: torch.Size([1, 256]), output_shape_caption: torch.Size([1, 256])\n"
     ]
    },
    {
     "name": "stderr",
     "output_type": "stream",
     "text": [
      "Using cache found in /Users/vladimirzaigrajew/.cache/torch/hub/facebookresearch_dinov2_main\n",
      "\u001b[32m2023-12-02 23:25:06.636\u001b[0m | \u001b[34m\u001b[1mDEBUG   \u001b[0m | \u001b[36msrc.models.base\u001b[0m:\u001b[36m__init__\u001b[0m:\u001b[36m32\u001b[0m - \u001b[34m\u001b[1mModel caption RobertaCaptionModel initialized.\u001b[0m\n",
      "Some weights of RobertaModel were not initialized from the model checkpoint at roberta-base and are newly initialized: ['roberta.pooler.dense.bias', 'roberta.pooler.dense.weight']\n",
      "You should probably TRAIN this model on a down-stream task to be able to use it for predictions and inference.\n",
      "\u001b[32m2023-12-02 23:25:08.451\u001b[0m | \u001b[1mINFO    \u001b[0m | \u001b[36msrc.models.models\u001b[0m:\u001b[36m__init__\u001b[0m:\u001b[36m84\u001b[0m - \u001b[1mSssssh don't listen to the warning above, Robert can be grumpy.\u001b[0m\n",
      "\u001b[32m2023-12-02 23:25:08.452\u001b[0m | \u001b[34m\u001b[1mDEBUG   \u001b[0m | \u001b[36msrc.models.base\u001b[0m:\u001b[36m__init__\u001b[0m:\u001b[36m50\u001b[0m - \u001b[34m\u001b[1mModel image-caption ClipAligner initialized.\u001b[0m\n",
      "\u001b[32m2023-12-02 23:25:08.761\u001b[0m | \u001b[34m\u001b[1mDEBUG   \u001b[0m | \u001b[36msrc.models.base\u001b[0m:\u001b[36m__init__\u001b[0m:\u001b[36m16\u001b[0m - \u001b[34m\u001b[1mModel image DinoVisionModel initialized.\u001b[0m\n"
     ]
    },
    {
     "name": "stdout",
     "output_type": "stream",
     "text": [
      "pooler: cls_mean_max, vision_layer: [(768, 'res'), (512, 'conv'), (256, 'mlp')], caption_layer: [(768, 'res'), (512, 'conv'), (256, 'mlp')], output_dim: 256, output_shape_image: torch.Size([1, 256]), output_shape_caption: torch.Size([1, 256])\n"
     ]
    },
    {
     "name": "stderr",
     "output_type": "stream",
     "text": [
      "Using cache found in /Users/vladimirzaigrajew/.cache/torch/hub/facebookresearch_dinov2_main\n",
      "\u001b[32m2023-12-02 23:25:11.544\u001b[0m | \u001b[34m\u001b[1mDEBUG   \u001b[0m | \u001b[36msrc.models.base\u001b[0m:\u001b[36m__init__\u001b[0m:\u001b[36m32\u001b[0m - \u001b[34m\u001b[1mModel caption RobertaCaptionModel initialized.\u001b[0m\n",
      "Some weights of RobertaModel were not initialized from the model checkpoint at roberta-base and are newly initialized: ['roberta.pooler.dense.bias', 'roberta.pooler.dense.weight']\n",
      "You should probably TRAIN this model on a down-stream task to be able to use it for predictions and inference.\n",
      "\u001b[32m2023-12-02 23:25:13.299\u001b[0m | \u001b[1mINFO    \u001b[0m | \u001b[36msrc.models.models\u001b[0m:\u001b[36m__init__\u001b[0m:\u001b[36m84\u001b[0m - \u001b[1mSssssh don't listen to the warning above, Robert can be grumpy.\u001b[0m\n",
      "\u001b[32m2023-12-02 23:25:13.300\u001b[0m | \u001b[34m\u001b[1mDEBUG   \u001b[0m | \u001b[36msrc.models.base\u001b[0m:\u001b[36m__init__\u001b[0m:\u001b[36m50\u001b[0m - \u001b[34m\u001b[1mModel image-caption ClipAligner initialized.\u001b[0m\n",
      "\u001b[32m2023-12-02 23:25:13.596\u001b[0m | \u001b[34m\u001b[1mDEBUG   \u001b[0m | \u001b[36msrc.models.base\u001b[0m:\u001b[36m__init__\u001b[0m:\u001b[36m16\u001b[0m - \u001b[34m\u001b[1mModel image DinoVisionModel initialized.\u001b[0m\n"
     ]
    },
    {
     "name": "stdout",
     "output_type": "stream",
     "text": [
      "pooler: cls, vision_layer: [(768, 'conv'), (512, 'mlp')], caption_layer: [(768, 'res'), (512, 'mlp')], output_dim: 512, output_shape_image: torch.Size([1, 512]), output_shape_caption: torch.Size([1, 512])\n"
     ]
    },
    {
     "name": "stderr",
     "output_type": "stream",
     "text": [
      "Using cache found in /Users/vladimirzaigrajew/.cache/torch/hub/facebookresearch_dinov2_main\n",
      "\u001b[32m2023-12-02 23:25:16.341\u001b[0m | \u001b[34m\u001b[1mDEBUG   \u001b[0m | \u001b[36msrc.models.base\u001b[0m:\u001b[36m__init__\u001b[0m:\u001b[36m32\u001b[0m - \u001b[34m\u001b[1mModel caption RobertaCaptionModel initialized.\u001b[0m\n",
      "Some weights of RobertaModel were not initialized from the model checkpoint at roberta-base and are newly initialized: ['roberta.pooler.dense.bias', 'roberta.pooler.dense.weight']\n",
      "You should probably TRAIN this model on a down-stream task to be able to use it for predictions and inference.\n",
      "\u001b[32m2023-12-02 23:25:18.138\u001b[0m | \u001b[1mINFO    \u001b[0m | \u001b[36msrc.models.models\u001b[0m:\u001b[36m__init__\u001b[0m:\u001b[36m84\u001b[0m - \u001b[1mSssssh don't listen to the warning above, Robert can be grumpy.\u001b[0m\n",
      "\u001b[32m2023-12-02 23:25:18.139\u001b[0m | \u001b[34m\u001b[1mDEBUG   \u001b[0m | \u001b[36msrc.models.base\u001b[0m:\u001b[36m__init__\u001b[0m:\u001b[36m50\u001b[0m - \u001b[34m\u001b[1mModel image-caption ClipAligner initialized.\u001b[0m\n",
      "\u001b[32m2023-12-02 23:25:18.436\u001b[0m | \u001b[34m\u001b[1mDEBUG   \u001b[0m | \u001b[36msrc.models.base\u001b[0m:\u001b[36m__init__\u001b[0m:\u001b[36m16\u001b[0m - \u001b[34m\u001b[1mModel image DinoVisionModel initialized.\u001b[0m\n"
     ]
    },
    {
     "name": "stdout",
     "output_type": "stream",
     "text": [
      "pooler: mean, vision_layer: [(768, 'conv'), (512, 'mlp')], caption_layer: [(768, 'res'), (512, 'mlp')], output_dim: 512, output_shape_image: torch.Size([1, 512]), output_shape_caption: torch.Size([1, 512])\n"
     ]
    },
    {
     "name": "stderr",
     "output_type": "stream",
     "text": [
      "Using cache found in /Users/vladimirzaigrajew/.cache/torch/hub/facebookresearch_dinov2_main\n",
      "\u001b[32m2023-12-02 23:25:21.810\u001b[0m | \u001b[34m\u001b[1mDEBUG   \u001b[0m | \u001b[36msrc.models.base\u001b[0m:\u001b[36m__init__\u001b[0m:\u001b[36m32\u001b[0m - \u001b[34m\u001b[1mModel caption RobertaCaptionModel initialized.\u001b[0m\n",
      "Some weights of RobertaModel were not initialized from the model checkpoint at roberta-base and are newly initialized: ['roberta.pooler.dense.bias', 'roberta.pooler.dense.weight']\n",
      "You should probably TRAIN this model on a down-stream task to be able to use it for predictions and inference.\n",
      "\u001b[32m2023-12-02 23:25:23.430\u001b[0m | \u001b[1mINFO    \u001b[0m | \u001b[36msrc.models.models\u001b[0m:\u001b[36m__init__\u001b[0m:\u001b[36m84\u001b[0m - \u001b[1mSssssh don't listen to the warning above, Robert can be grumpy.\u001b[0m\n",
      "\u001b[32m2023-12-02 23:25:23.431\u001b[0m | \u001b[34m\u001b[1mDEBUG   \u001b[0m | \u001b[36msrc.models.base\u001b[0m:\u001b[36m__init__\u001b[0m:\u001b[36m50\u001b[0m - \u001b[34m\u001b[1mModel image-caption ClipAligner initialized.\u001b[0m\n",
      "\u001b[32m2023-12-02 23:25:23.722\u001b[0m | \u001b[34m\u001b[1mDEBUG   \u001b[0m | \u001b[36msrc.models.base\u001b[0m:\u001b[36m__init__\u001b[0m:\u001b[36m16\u001b[0m - \u001b[34m\u001b[1mModel image DinoVisionModel initialized.\u001b[0m\n"
     ]
    },
    {
     "name": "stdout",
     "output_type": "stream",
     "text": [
      "pooler: mean_max, vision_layer: [(768, 'conv'), (512, 'mlp')], caption_layer: [(768, 'res'), (512, 'mlp')], output_dim: 512, output_shape_image: torch.Size([1, 512]), output_shape_caption: torch.Size([1, 512])\n"
     ]
    },
    {
     "name": "stderr",
     "output_type": "stream",
     "text": [
      "Using cache found in /Users/vladimirzaigrajew/.cache/torch/hub/facebookresearch_dinov2_main\n",
      "\u001b[32m2023-12-02 23:25:26.046\u001b[0m | \u001b[34m\u001b[1mDEBUG   \u001b[0m | \u001b[36msrc.models.base\u001b[0m:\u001b[36m__init__\u001b[0m:\u001b[36m32\u001b[0m - \u001b[34m\u001b[1mModel caption RobertaCaptionModel initialized.\u001b[0m\n",
      "Some weights of RobertaModel were not initialized from the model checkpoint at roberta-base and are newly initialized: ['roberta.pooler.dense.bias', 'roberta.pooler.dense.weight']\n",
      "You should probably TRAIN this model on a down-stream task to be able to use it for predictions and inference.\n",
      "\u001b[32m2023-12-02 23:25:27.682\u001b[0m | \u001b[1mINFO    \u001b[0m | \u001b[36msrc.models.models\u001b[0m:\u001b[36m__init__\u001b[0m:\u001b[36m84\u001b[0m - \u001b[1mSssssh don't listen to the warning above, Robert can be grumpy.\u001b[0m\n",
      "\u001b[32m2023-12-02 23:25:27.683\u001b[0m | \u001b[34m\u001b[1mDEBUG   \u001b[0m | \u001b[36msrc.models.base\u001b[0m:\u001b[36m__init__\u001b[0m:\u001b[36m50\u001b[0m - \u001b[34m\u001b[1mModel image-caption ClipAligner initialized.\u001b[0m\n"
     ]
    },
    {
     "name": "stdout",
     "output_type": "stream",
     "text": [
      "pooler: cls_mean_max, vision_layer: [(768, 'conv'), (512, 'mlp')], caption_layer: [(768, 'res'), (512, 'mlp')], output_dim: 512, output_shape_image: torch.Size([1, 512]), output_shape_caption: torch.Size([1, 512])\n"
     ]
    }
   ],
   "source": [
    "with torch.inference_mode():\n",
    "    for vision_layer, caption_layer in [\n",
    "        ([(768, \"mlp\"), (512, \"mlp\")], [(768, \"mlp\"), (512, \"mlp\")]),\n",
    "        ([(768, \"conv\"), (512, \"conv\")], [(768, \"conv\"), (512, \"conv\")]),\n",
    "        ([(768, \"res\"), (512, \"res\")], [(768, \"res\"), (512, \"res\")]),\n",
    "        ([(768, \"res\"), (512, \"conv\"), (256, \"mlp\")], [(768, \"res\"), (512, \"conv\"), (256, \"mlp\")]),\n",
    "        ([(768, \"conv\"), (512, \"mlp\")], [(768, \"res\"), (512, \"mlp\")]),\n",
    "    ]:\n",
    "        for pooler in [\"cls\", \"mean\", \"mean_max\", \"cls_mean_max\"]:\n",
    "            model = ClipAligner(\n",
    "                DinoVisionModel(checkpoint=\"dinov2_vitb14\", pooling=pooler),\n",
    "                RobertaCaptionModel(checkpoint=\"roberta-base\", pooling=\"cls\"),\n",
    "                vision_layer=vision_layer,\n",
    "                caption_layer=caption_layer,\n",
    "            )\n",
    "            output = model(trans(sample_image), tokenizer(sample_test, return_tensors=\"pt\", padding=True))\n",
    "            print(f\"pooler: {pooler}, vision_layer: {vision_layer}, caption_layer: {caption_layer}, output_dim: {model.output_dim}, output_shape_image: {output[0].shape}, output_shape_caption: {output[1].shape}\")"
   ]
  },
  {
   "cell_type": "code",
   "execution_count": 22,
   "metadata": {},
   "outputs": [
    {
     "name": "stderr",
     "output_type": "stream",
     "text": [
      "\u001b[32m2023-12-02 23:25:28.031\u001b[0m | \u001b[34m\u001b[1mDEBUG   \u001b[0m | \u001b[36msrc.models.base\u001b[0m:\u001b[36m__init__\u001b[0m:\u001b[36m16\u001b[0m - \u001b[34m\u001b[1mModel image DinoVisionModel initialized.\u001b[0m\n",
      "Using cache found in /Users/vladimirzaigrajew/.cache/torch/hub/facebookresearch_dinov2_main\n",
      "\u001b[32m2023-12-02 23:25:30.381\u001b[0m | \u001b[34m\u001b[1mDEBUG   \u001b[0m | \u001b[36msrc.models.base\u001b[0m:\u001b[36m__init__\u001b[0m:\u001b[36m32\u001b[0m - \u001b[34m\u001b[1mModel caption RobertaCaptionModel initialized.\u001b[0m\n",
      "Some weights of RobertaModel were not initialized from the model checkpoint at roberta-base and are newly initialized: ['roberta.pooler.dense.bias', 'roberta.pooler.dense.weight']\n",
      "You should probably TRAIN this model on a down-stream task to be able to use it for predictions and inference.\n",
      "\u001b[32m2023-12-02 23:25:32.037\u001b[0m | \u001b[1mINFO    \u001b[0m | \u001b[36msrc.models.models\u001b[0m:\u001b[36m__init__\u001b[0m:\u001b[36m84\u001b[0m - \u001b[1mSssssh don't listen to the warning above, Robert can be grumpy.\u001b[0m\n",
      "\u001b[32m2023-12-02 23:25:32.038\u001b[0m | \u001b[34m\u001b[1mDEBUG   \u001b[0m | \u001b[36msrc.models.base\u001b[0m:\u001b[36m__init__\u001b[0m:\u001b[36m50\u001b[0m - \u001b[34m\u001b[1mModel image-caption ClipAligner initialized.\u001b[0m\n",
      "\u001b[32m2023-12-02 23:25:32.136\u001b[0m | \u001b[34m\u001b[1mDEBUG   \u001b[0m | \u001b[36msrc.models.base\u001b[0m:\u001b[36m__init__\u001b[0m:\u001b[36m16\u001b[0m - \u001b[34m\u001b[1mModel image DinoVisionModel initialized.\u001b[0m\n",
      "Using cache found in /Users/vladimirzaigrajew/.cache/torch/hub/facebookresearch_dinov2_main\n",
      "\u001b[32m2023-12-02 23:25:35.008\u001b[0m | \u001b[34m\u001b[1mDEBUG   \u001b[0m | \u001b[36msrc.models.base\u001b[0m:\u001b[36m__init__\u001b[0m:\u001b[36m32\u001b[0m - \u001b[34m\u001b[1mModel caption RobertaCaptionModel initialized.\u001b[0m\n",
      "Some weights of RobertaModel were not initialized from the model checkpoint at roberta-base and are newly initialized: ['roberta.pooler.dense.bias', 'roberta.pooler.dense.weight']\n",
      "You should probably TRAIN this model on a down-stream task to be able to use it for predictions and inference.\n",
      "\u001b[32m2023-12-02 23:25:36.681\u001b[0m | \u001b[1mINFO    \u001b[0m | \u001b[36msrc.models.models\u001b[0m:\u001b[36m__init__\u001b[0m:\u001b[36m84\u001b[0m - \u001b[1mSssssh don't listen to the warning above, Robert can be grumpy.\u001b[0m\n",
      "\u001b[32m2023-12-02 23:25:36.682\u001b[0m | \u001b[34m\u001b[1mDEBUG   \u001b[0m | \u001b[36msrc.models.base\u001b[0m:\u001b[36m__init__\u001b[0m:\u001b[36m50\u001b[0m - \u001b[34m\u001b[1mModel image-caption ClipAligner initialized.\u001b[0m\n"
     ]
    }
   ],
   "source": [
    "\n",
    "for layer_vision, layer_caption in [[\"mlp\", \"Wrong\"], [\"Wrong\", \"mlp\"]]:\n",
    "    try:\n",
    "        model = ClipAligner(\n",
    "            DinoVisionModel(checkpoint=\"dinov2_vitb14\", pooling=\"cls\"),\n",
    "            RobertaCaptionModel(checkpoint=\"roberta-base\", pooling=\"cls\"),\n",
    "            vision_layer=[(768, layer_vision), (512, layer_vision)],\n",
    "            caption_layer=[(768, layer_caption), (512, layer_caption)],\n",
    "        )\n",
    "        assert False\n",
    "    except ValueError:\n",
    "        assert True"
   ]
  },
  {
   "cell_type": "code",
   "execution_count": 23,
   "metadata": {},
   "outputs": [],
   "source": [
    "from src.models.factory import create_model"
   ]
  },
  {
   "cell_type": "code",
   "execution_count": 24,
   "metadata": {},
   "outputs": [
    {
     "name": "stderr",
     "output_type": "stream",
     "text": [
      "\u001b[32m2023-12-02 23:25:36.784\u001b[0m | \u001b[1mINFO    \u001b[0m | \u001b[36msrc.models.factory\u001b[0m:\u001b[36mcreate_model\u001b[0m:\u001b[36m50\u001b[0m - \u001b[1mInitializing Vision model: dinov2 and Caption model: roberta\u001b[0m\n",
      "\u001b[32m2023-12-02 23:25:36.785\u001b[0m | \u001b[34m\u001b[1mDEBUG   \u001b[0m | \u001b[36msrc.models.base\u001b[0m:\u001b[36m__init__\u001b[0m:\u001b[36m16\u001b[0m - \u001b[34m\u001b[1mModel image DinoVisionModel initialized.\u001b[0m\n",
      "Using cache found in /Users/vladimirzaigrajew/.cache/torch/hub/facebookresearch_dinov2_main\n",
      "\u001b[32m2023-12-02 23:25:39.584\u001b[0m | \u001b[34m\u001b[1mDEBUG   \u001b[0m | \u001b[36msrc.models.base\u001b[0m:\u001b[36m__init__\u001b[0m:\u001b[36m32\u001b[0m - \u001b[34m\u001b[1mModel caption RobertaCaptionModel initialized.\u001b[0m\n",
      "Some weights of RobertaModel were not initialized from the model checkpoint at roberta-base and are newly initialized: ['roberta.pooler.dense.bias', 'roberta.pooler.dense.weight']\n",
      "You should probably TRAIN this model on a down-stream task to be able to use it for predictions and inference.\n",
      "\u001b[32m2023-12-02 23:25:41.451\u001b[0m | \u001b[1mINFO    \u001b[0m | \u001b[36msrc.models.models\u001b[0m:\u001b[36m__init__\u001b[0m:\u001b[36m84\u001b[0m - \u001b[1mSssssh don't listen to the warning above, Robert can be grumpy.\u001b[0m\n",
      "\u001b[32m2023-12-02 23:25:41.452\u001b[0m | \u001b[34m\u001b[1mDEBUG   \u001b[0m | \u001b[36msrc.models.base\u001b[0m:\u001b[36m__init__\u001b[0m:\u001b[36m50\u001b[0m - \u001b[34m\u001b[1mModel image-caption ClipAligner initialized.\u001b[0m\n"
     ]
    }
   ],
   "source": [
    "model = create_model(\n",
    "    {\n",
    "        \"image\": {\"name\": \"dinov2\", \"checkpoint\": \"dinov2_vitb14\", \"pooling\": \"cls\"},\n",
    "        \"caption\": {\"name\": \"roberta\", \"checkpoint\": \"roberta-base\", \"pooling\": \"cls\"},\n",
    "        \"alignment\": {\"name\": \"clip_aligner\",\"vision_layer\": [(768, \"mlp\"), (512, \"mlp\")], \"caption_layer\": [(768, \"mlp\"), (512, \"mlp\")]},\n",
    "    }\n",
    ")"
   ]
  },
  {
   "cell_type": "code",
   "execution_count": 25,
   "metadata": {},
   "outputs": [],
   "source": [
    "trans, tokenizer = model.get_basic_transformations()\n",
    "trans = transforms.Compose(trans)"
   ]
  },
  {
   "cell_type": "code",
   "execution_count": 26,
   "metadata": {},
   "outputs": [],
   "source": [
    "with torch.inference_mode():\n",
    "    output_test = model(trans(sample_image), tokenizer(sample_test, return_tensors=\"pt\", padding=True))\n",
    "    output_batch_test = model(trans(batch_sample_image), tokenizer(batch_sample_test, return_tensors=\"pt\", padding=True))"
   ]
  },
  {
   "cell_type": "code",
   "execution_count": 27,
   "metadata": {},
   "outputs": [
    {
     "data": {
      "text/plain": [
       "(torch.Size([1, 512]),\n",
       " torch.Size([2, 512]),\n",
       " torch.Size([1, 512]),\n",
       " torch.Size([2, 512]),\n",
       " 512)"
      ]
     },
     "execution_count": 27,
     "metadata": {},
     "output_type": "execute_result"
    }
   ],
   "source": [
    "output_test[0].shape, output_batch_test[0].shape, output_test[1].shape, output_batch_test[1].shape, model.output_dim"
   ]
  },
  {
   "cell_type": "code",
   "execution_count": null,
   "metadata": {},
   "outputs": [],
   "source": []
  },
  {
   "cell_type": "code",
   "execution_count": null,
   "metadata": {},
   "outputs": [],
   "source": []
  }
 ],
 "metadata": {
  "kernelspec": {
   "display_name": ".venv",
   "language": "python",
   "name": "python3"
  },
  "language_info": {
   "codemirror_mode": {
    "name": "ipython",
    "version": 3
   },
   "file_extension": ".py",
   "mimetype": "text/x-python",
   "name": "python",
   "nbconvert_exporter": "python",
   "pygments_lexer": "ipython3",
   "version": "3.10.5"
  }
 },
 "nbformat": 4,
 "nbformat_minor": 2
}
